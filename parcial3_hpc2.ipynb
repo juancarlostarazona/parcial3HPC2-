{
  "nbformat": 4,
  "nbformat_minor": 0,
  "metadata": {
    "colab": {
      "provenance": []
    },
    "kernelspec": {
      "name": "python3",
      "display_name": "Python 3"
    },
    "language_info": {
      "name": "python"
    }
  },
  "cells": [
    {
      "cell_type": "markdown",
      "source": [
        "<div> \n",
        "<img src=\"https://res-5.cloudinary.com/crunchbase-production/image/upload/c_lpad,h_256,w_256,f_auto,q_auto:eco/v1455514364/pim02bzqvgz0hibsra41.png\" align=\"right\"><br><br><FONT FACE=\"times new roman\" SIZE=5>\n",
        "<b></b>\n",
        "<br>\n",
        "<i><b>Docente:</b></i> Jhon Corredor Franco.\n",
        "<br>\n",
        "<i><b>Asignatura:</b></i> Métricas de rendimiento HPC\n",
        "<br>\n",
        "<i><b>Estudiante:</b></i> Juan Carlos Tarazona Contreras.\n",
        "<br>\n",
        "<i><b>Tema:</b></i> Tercer Parcial.\n",
        "<br>\n",
        "<i><b>Dataset:</b></i> Data for Admission in the University\n",
        "<br>\n",
        "<i><b>Métrica de rendimiento:</b></i> Regresión logística\n",
        "<br>\n",
        "<br>\n",
        "22/11/2022\n",
        "<br>\n",
        "</FONT>\n",
        "</div>"
      ],
      "metadata": {
        "id": "Lir0Xuri_nOR"
      }
    },
    {
      "cell_type": "markdown",
      "source": [
        "Se importan las bibliotecas necesarias para el desarrollo del trabajo."
      ],
      "metadata": {
        "id": "P1d0FusnJfU4"
      }
    },
    {
      "cell_type": "code",
      "execution_count": 694,
      "metadata": {
        "id": "wHP0ByRB_iZg"
      },
      "outputs": [],
      "source": [
        "import pandas as pd\n",
        "import numpy as np\n",
        "import matplotlib.pyplot as plt\n",
        "from sklearn.linear_model import LogisticRegression\n",
        "from sklearn.linear_model import LinearRegression\n",
        "from sklearn.model_selection import train_test_split\n",
        "from sklearn.preprocessing import Normalizer\n",
        "import seaborn as sn\n",
        "import scipy.stats as ss"
      ]
    },
    {
      "cell_type": "markdown",
      "source": [
        "Se sube los datos de entrada y se asignan las variables del dataframe(df), agregando los nombres de los diferentes datos necesarios y pudiendo diferenciar el tipo de dato al que pertenece cada característica.\n"
      ],
      "metadata": {
        "id": "-F_rU4dKJg0q"
      }
    },
    {
      "cell_type": "code",
      "source": [
        "df = pd.read_csv(\"/content/adm_data.csv\")"
      ],
      "metadata": {
        "id": "EyWLJi4eKW6Z"
      },
      "execution_count": 695,
      "outputs": []
    },
    {
      "cell_type": "code",
      "source": [
        "df"
      ],
      "metadata": {
        "colab": {
          "base_uri": "https://localhost:8080/",
          "height": 485
        },
        "id": "kQxf-KMuLvz4",
        "outputId": "07bec95e-fa04-4386-e9f1-bfd2b224e225"
      },
      "execution_count": 696,
      "outputs": [
        {
          "output_type": "execute_result",
          "data": {
            "text/plain": [
              "     Serial No.  GRE Score  TOEFL Score  University Rating  SOP  LOR   CGPA  \\\n",
              "0             1        337          118                  4  4.5   4.5  9.65   \n",
              "1             2        324          107                  4  4.0   4.5  8.87   \n",
              "2             3        316          104                  3  3.0   3.5  8.00   \n",
              "3             4        322          110                  3  3.5   2.5  8.67   \n",
              "4             5        314          103                  2  2.0   3.0  8.21   \n",
              "..          ...        ...          ...                ...  ...   ...   ...   \n",
              "395         396        324          110                  3  3.5   3.5  9.04   \n",
              "396         397        325          107                  3  3.0   3.5  9.11   \n",
              "397         398        330          116                  4  5.0   4.5  9.45   \n",
              "398         399        312          103                  3  3.5   4.0  8.78   \n",
              "399         400        333          117                  4  5.0   4.0  9.66   \n",
              "\n",
              "     Research  Chance of Admit   \n",
              "0           1              0.92  \n",
              "1           1              0.76  \n",
              "2           1              0.72  \n",
              "3           1              0.80  \n",
              "4           0              0.65  \n",
              "..        ...               ...  \n",
              "395         1              0.82  \n",
              "396         1              0.84  \n",
              "397         1              0.91  \n",
              "398         0              0.67  \n",
              "399         1              0.95  \n",
              "\n",
              "[400 rows x 9 columns]"
            ],
            "text/html": [
              "\n",
              "  <div id=\"df-d065a088-a0ac-4bac-a408-73a7468d8a0c\">\n",
              "    <div class=\"colab-df-container\">\n",
              "      <div>\n",
              "<style scoped>\n",
              "    .dataframe tbody tr th:only-of-type {\n",
              "        vertical-align: middle;\n",
              "    }\n",
              "\n",
              "    .dataframe tbody tr th {\n",
              "        vertical-align: top;\n",
              "    }\n",
              "\n",
              "    .dataframe thead th {\n",
              "        text-align: right;\n",
              "    }\n",
              "</style>\n",
              "<table border=\"1\" class=\"dataframe\">\n",
              "  <thead>\n",
              "    <tr style=\"text-align: right;\">\n",
              "      <th></th>\n",
              "      <th>Serial No.</th>\n",
              "      <th>GRE Score</th>\n",
              "      <th>TOEFL Score</th>\n",
              "      <th>University Rating</th>\n",
              "      <th>SOP</th>\n",
              "      <th>LOR</th>\n",
              "      <th>CGPA</th>\n",
              "      <th>Research</th>\n",
              "      <th>Chance of Admit</th>\n",
              "    </tr>\n",
              "  </thead>\n",
              "  <tbody>\n",
              "    <tr>\n",
              "      <th>0</th>\n",
              "      <td>1</td>\n",
              "      <td>337</td>\n",
              "      <td>118</td>\n",
              "      <td>4</td>\n",
              "      <td>4.5</td>\n",
              "      <td>4.5</td>\n",
              "      <td>9.65</td>\n",
              "      <td>1</td>\n",
              "      <td>0.92</td>\n",
              "    </tr>\n",
              "    <tr>\n",
              "      <th>1</th>\n",
              "      <td>2</td>\n",
              "      <td>324</td>\n",
              "      <td>107</td>\n",
              "      <td>4</td>\n",
              "      <td>4.0</td>\n",
              "      <td>4.5</td>\n",
              "      <td>8.87</td>\n",
              "      <td>1</td>\n",
              "      <td>0.76</td>\n",
              "    </tr>\n",
              "    <tr>\n",
              "      <th>2</th>\n",
              "      <td>3</td>\n",
              "      <td>316</td>\n",
              "      <td>104</td>\n",
              "      <td>3</td>\n",
              "      <td>3.0</td>\n",
              "      <td>3.5</td>\n",
              "      <td>8.00</td>\n",
              "      <td>1</td>\n",
              "      <td>0.72</td>\n",
              "    </tr>\n",
              "    <tr>\n",
              "      <th>3</th>\n",
              "      <td>4</td>\n",
              "      <td>322</td>\n",
              "      <td>110</td>\n",
              "      <td>3</td>\n",
              "      <td>3.5</td>\n",
              "      <td>2.5</td>\n",
              "      <td>8.67</td>\n",
              "      <td>1</td>\n",
              "      <td>0.80</td>\n",
              "    </tr>\n",
              "    <tr>\n",
              "      <th>4</th>\n",
              "      <td>5</td>\n",
              "      <td>314</td>\n",
              "      <td>103</td>\n",
              "      <td>2</td>\n",
              "      <td>2.0</td>\n",
              "      <td>3.0</td>\n",
              "      <td>8.21</td>\n",
              "      <td>0</td>\n",
              "      <td>0.65</td>\n",
              "    </tr>\n",
              "    <tr>\n",
              "      <th>...</th>\n",
              "      <td>...</td>\n",
              "      <td>...</td>\n",
              "      <td>...</td>\n",
              "      <td>...</td>\n",
              "      <td>...</td>\n",
              "      <td>...</td>\n",
              "      <td>...</td>\n",
              "      <td>...</td>\n",
              "      <td>...</td>\n",
              "    </tr>\n",
              "    <tr>\n",
              "      <th>395</th>\n",
              "      <td>396</td>\n",
              "      <td>324</td>\n",
              "      <td>110</td>\n",
              "      <td>3</td>\n",
              "      <td>3.5</td>\n",
              "      <td>3.5</td>\n",
              "      <td>9.04</td>\n",
              "      <td>1</td>\n",
              "      <td>0.82</td>\n",
              "    </tr>\n",
              "    <tr>\n",
              "      <th>396</th>\n",
              "      <td>397</td>\n",
              "      <td>325</td>\n",
              "      <td>107</td>\n",
              "      <td>3</td>\n",
              "      <td>3.0</td>\n",
              "      <td>3.5</td>\n",
              "      <td>9.11</td>\n",
              "      <td>1</td>\n",
              "      <td>0.84</td>\n",
              "    </tr>\n",
              "    <tr>\n",
              "      <th>397</th>\n",
              "      <td>398</td>\n",
              "      <td>330</td>\n",
              "      <td>116</td>\n",
              "      <td>4</td>\n",
              "      <td>5.0</td>\n",
              "      <td>4.5</td>\n",
              "      <td>9.45</td>\n",
              "      <td>1</td>\n",
              "      <td>0.91</td>\n",
              "    </tr>\n",
              "    <tr>\n",
              "      <th>398</th>\n",
              "      <td>399</td>\n",
              "      <td>312</td>\n",
              "      <td>103</td>\n",
              "      <td>3</td>\n",
              "      <td>3.5</td>\n",
              "      <td>4.0</td>\n",
              "      <td>8.78</td>\n",
              "      <td>0</td>\n",
              "      <td>0.67</td>\n",
              "    </tr>\n",
              "    <tr>\n",
              "      <th>399</th>\n",
              "      <td>400</td>\n",
              "      <td>333</td>\n",
              "      <td>117</td>\n",
              "      <td>4</td>\n",
              "      <td>5.0</td>\n",
              "      <td>4.0</td>\n",
              "      <td>9.66</td>\n",
              "      <td>1</td>\n",
              "      <td>0.95</td>\n",
              "    </tr>\n",
              "  </tbody>\n",
              "</table>\n",
              "<p>400 rows × 9 columns</p>\n",
              "</div>\n",
              "      <button class=\"colab-df-convert\" onclick=\"convertToInteractive('df-d065a088-a0ac-4bac-a408-73a7468d8a0c')\"\n",
              "              title=\"Convert this dataframe to an interactive table.\"\n",
              "              style=\"display:none;\">\n",
              "        \n",
              "  <svg xmlns=\"http://www.w3.org/2000/svg\" height=\"24px\"viewBox=\"0 0 24 24\"\n",
              "       width=\"24px\">\n",
              "    <path d=\"M0 0h24v24H0V0z\" fill=\"none\"/>\n",
              "    <path d=\"M18.56 5.44l.94 2.06.94-2.06 2.06-.94-2.06-.94-.94-2.06-.94 2.06-2.06.94zm-11 1L8.5 8.5l.94-2.06 2.06-.94-2.06-.94L8.5 2.5l-.94 2.06-2.06.94zm10 10l.94 2.06.94-2.06 2.06-.94-2.06-.94-.94-2.06-.94 2.06-2.06.94z\"/><path d=\"M17.41 7.96l-1.37-1.37c-.4-.4-.92-.59-1.43-.59-.52 0-1.04.2-1.43.59L10.3 9.45l-7.72 7.72c-.78.78-.78 2.05 0 2.83L4 21.41c.39.39.9.59 1.41.59.51 0 1.02-.2 1.41-.59l7.78-7.78 2.81-2.81c.8-.78.8-2.07 0-2.86zM5.41 20L4 18.59l7.72-7.72 1.47 1.35L5.41 20z\"/>\n",
              "  </svg>\n",
              "      </button>\n",
              "      \n",
              "  <style>\n",
              "    .colab-df-container {\n",
              "      display:flex;\n",
              "      flex-wrap:wrap;\n",
              "      gap: 12px;\n",
              "    }\n",
              "\n",
              "    .colab-df-convert {\n",
              "      background-color: #E8F0FE;\n",
              "      border: none;\n",
              "      border-radius: 50%;\n",
              "      cursor: pointer;\n",
              "      display: none;\n",
              "      fill: #1967D2;\n",
              "      height: 32px;\n",
              "      padding: 0 0 0 0;\n",
              "      width: 32px;\n",
              "    }\n",
              "\n",
              "    .colab-df-convert:hover {\n",
              "      background-color: #E2EBFA;\n",
              "      box-shadow: 0px 1px 2px rgba(60, 64, 67, 0.3), 0px 1px 3px 1px rgba(60, 64, 67, 0.15);\n",
              "      fill: #174EA6;\n",
              "    }\n",
              "\n",
              "    [theme=dark] .colab-df-convert {\n",
              "      background-color: #3B4455;\n",
              "      fill: #D2E3FC;\n",
              "    }\n",
              "\n",
              "    [theme=dark] .colab-df-convert:hover {\n",
              "      background-color: #434B5C;\n",
              "      box-shadow: 0px 1px 3px 1px rgba(0, 0, 0, 0.15);\n",
              "      filter: drop-shadow(0px 1px 2px rgba(0, 0, 0, 0.3));\n",
              "      fill: #FFFFFF;\n",
              "    }\n",
              "  </style>\n",
              "\n",
              "      <script>\n",
              "        const buttonEl =\n",
              "          document.querySelector('#df-d065a088-a0ac-4bac-a408-73a7468d8a0c button.colab-df-convert');\n",
              "        buttonEl.style.display =\n",
              "          google.colab.kernel.accessAllowed ? 'block' : 'none';\n",
              "\n",
              "        async function convertToInteractive(key) {\n",
              "          const element = document.querySelector('#df-d065a088-a0ac-4bac-a408-73a7468d8a0c');\n",
              "          const dataTable =\n",
              "            await google.colab.kernel.invokeFunction('convertToInteractive',\n",
              "                                                     [key], {});\n",
              "          if (!dataTable) return;\n",
              "\n",
              "          const docLinkHtml = 'Like what you see? Visit the ' +\n",
              "            '<a target=\"_blank\" href=https://colab.research.google.com/notebooks/data_table.ipynb>data table notebook</a>'\n",
              "            + ' to learn more about interactive tables.';\n",
              "          element.innerHTML = '';\n",
              "          dataTable['output_type'] = 'display_data';\n",
              "          await google.colab.output.renderOutput(dataTable, element);\n",
              "          const docLink = document.createElement('div');\n",
              "          docLink.innerHTML = docLinkHtml;\n",
              "          element.appendChild(docLink);\n",
              "        }\n",
              "      </script>\n",
              "    </div>\n",
              "  </div>\n",
              "  "
            ]
          },
          "metadata": {},
          "execution_count": 696
        }
      ]
    },
    {
      "cell_type": "markdown",
      "source": [
        "Presentación con el modelo c++\n"
      ],
      "metadata": {
        "id": "QHyVuCNTYuaX"
      }
    },
    {
      "cell_type": "markdown",
      "source": [
        "![Captura desde 2022-11-22 22-02-25.png](data:image/png;base64,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)"
      ],
      "metadata": {
        "id": "KE7e26nDYvXu"
      }
    },
    {
      "cell_type": "markdown",
      "source": [
        "Se verifica que no hayan datos nulos entre todas las variables."
      ],
      "metadata": {
        "id": "64M_ycpQeG5Y"
      }
    },
    {
      "cell_type": "code",
      "source": [
        "df.notnull()"
      ],
      "metadata": {
        "colab": {
          "base_uri": "https://localhost:8080/",
          "height": 485
        },
        "id": "s9lH31Z8Y0ja",
        "outputId": "c3d36e27-6449-49e1-8cf4-d8a03a5fe75d"
      },
      "execution_count": 697,
      "outputs": [
        {
          "output_type": "execute_result",
          "data": {
            "text/plain": [
              "     Serial No.  GRE Score  TOEFL Score  University Rating   SOP  LOR   CGPA  \\\n",
              "0          True       True         True               True  True  True  True   \n",
              "1          True       True         True               True  True  True  True   \n",
              "2          True       True         True               True  True  True  True   \n",
              "3          True       True         True               True  True  True  True   \n",
              "4          True       True         True               True  True  True  True   \n",
              "..          ...        ...          ...                ...   ...   ...   ...   \n",
              "395        True       True         True               True  True  True  True   \n",
              "396        True       True         True               True  True  True  True   \n",
              "397        True       True         True               True  True  True  True   \n",
              "398        True       True         True               True  True  True  True   \n",
              "399        True       True         True               True  True  True  True   \n",
              "\n",
              "     Research  Chance of Admit   \n",
              "0        True              True  \n",
              "1        True              True  \n",
              "2        True              True  \n",
              "3        True              True  \n",
              "4        True              True  \n",
              "..        ...               ...  \n",
              "395      True              True  \n",
              "396      True              True  \n",
              "397      True              True  \n",
              "398      True              True  \n",
              "399      True              True  \n",
              "\n",
              "[400 rows x 9 columns]"
            ],
            "text/html": [
              "\n",
              "  <div id=\"df-1725f9aa-2252-4197-a65c-8f2080d6772c\">\n",
              "    <div class=\"colab-df-container\">\n",
              "      <div>\n",
              "<style scoped>\n",
              "    .dataframe tbody tr th:only-of-type {\n",
              "        vertical-align: middle;\n",
              "    }\n",
              "\n",
              "    .dataframe tbody tr th {\n",
              "        vertical-align: top;\n",
              "    }\n",
              "\n",
              "    .dataframe thead th {\n",
              "        text-align: right;\n",
              "    }\n",
              "</style>\n",
              "<table border=\"1\" class=\"dataframe\">\n",
              "  <thead>\n",
              "    <tr style=\"text-align: right;\">\n",
              "      <th></th>\n",
              "      <th>Serial No.</th>\n",
              "      <th>GRE Score</th>\n",
              "      <th>TOEFL Score</th>\n",
              "      <th>University Rating</th>\n",
              "      <th>SOP</th>\n",
              "      <th>LOR</th>\n",
              "      <th>CGPA</th>\n",
              "      <th>Research</th>\n",
              "      <th>Chance of Admit</th>\n",
              "    </tr>\n",
              "  </thead>\n",
              "  <tbody>\n",
              "    <tr>\n",
              "      <th>0</th>\n",
              "      <td>True</td>\n",
              "      <td>True</td>\n",
              "      <td>True</td>\n",
              "      <td>True</td>\n",
              "      <td>True</td>\n",
              "      <td>True</td>\n",
              "      <td>True</td>\n",
              "      <td>True</td>\n",
              "      <td>True</td>\n",
              "    </tr>\n",
              "    <tr>\n",
              "      <th>1</th>\n",
              "      <td>True</td>\n",
              "      <td>True</td>\n",
              "      <td>True</td>\n",
              "      <td>True</td>\n",
              "      <td>True</td>\n",
              "      <td>True</td>\n",
              "      <td>True</td>\n",
              "      <td>True</td>\n",
              "      <td>True</td>\n",
              "    </tr>\n",
              "    <tr>\n",
              "      <th>2</th>\n",
              "      <td>True</td>\n",
              "      <td>True</td>\n",
              "      <td>True</td>\n",
              "      <td>True</td>\n",
              "      <td>True</td>\n",
              "      <td>True</td>\n",
              "      <td>True</td>\n",
              "      <td>True</td>\n",
              "      <td>True</td>\n",
              "    </tr>\n",
              "    <tr>\n",
              "      <th>3</th>\n",
              "      <td>True</td>\n",
              "      <td>True</td>\n",
              "      <td>True</td>\n",
              "      <td>True</td>\n",
              "      <td>True</td>\n",
              "      <td>True</td>\n",
              "      <td>True</td>\n",
              "      <td>True</td>\n",
              "      <td>True</td>\n",
              "    </tr>\n",
              "    <tr>\n",
              "      <th>4</th>\n",
              "      <td>True</td>\n",
              "      <td>True</td>\n",
              "      <td>True</td>\n",
              "      <td>True</td>\n",
              "      <td>True</td>\n",
              "      <td>True</td>\n",
              "      <td>True</td>\n",
              "      <td>True</td>\n",
              "      <td>True</td>\n",
              "    </tr>\n",
              "    <tr>\n",
              "      <th>...</th>\n",
              "      <td>...</td>\n",
              "      <td>...</td>\n",
              "      <td>...</td>\n",
              "      <td>...</td>\n",
              "      <td>...</td>\n",
              "      <td>...</td>\n",
              "      <td>...</td>\n",
              "      <td>...</td>\n",
              "      <td>...</td>\n",
              "    </tr>\n",
              "    <tr>\n",
              "      <th>395</th>\n",
              "      <td>True</td>\n",
              "      <td>True</td>\n",
              "      <td>True</td>\n",
              "      <td>True</td>\n",
              "      <td>True</td>\n",
              "      <td>True</td>\n",
              "      <td>True</td>\n",
              "      <td>True</td>\n",
              "      <td>True</td>\n",
              "    </tr>\n",
              "    <tr>\n",
              "      <th>396</th>\n",
              "      <td>True</td>\n",
              "      <td>True</td>\n",
              "      <td>True</td>\n",
              "      <td>True</td>\n",
              "      <td>True</td>\n",
              "      <td>True</td>\n",
              "      <td>True</td>\n",
              "      <td>True</td>\n",
              "      <td>True</td>\n",
              "    </tr>\n",
              "    <tr>\n",
              "      <th>397</th>\n",
              "      <td>True</td>\n",
              "      <td>True</td>\n",
              "      <td>True</td>\n",
              "      <td>True</td>\n",
              "      <td>True</td>\n",
              "      <td>True</td>\n",
              "      <td>True</td>\n",
              "      <td>True</td>\n",
              "      <td>True</td>\n",
              "    </tr>\n",
              "    <tr>\n",
              "      <th>398</th>\n",
              "      <td>True</td>\n",
              "      <td>True</td>\n",
              "      <td>True</td>\n",
              "      <td>True</td>\n",
              "      <td>True</td>\n",
              "      <td>True</td>\n",
              "      <td>True</td>\n",
              "      <td>True</td>\n",
              "      <td>True</td>\n",
              "    </tr>\n",
              "    <tr>\n",
              "      <th>399</th>\n",
              "      <td>True</td>\n",
              "      <td>True</td>\n",
              "      <td>True</td>\n",
              "      <td>True</td>\n",
              "      <td>True</td>\n",
              "      <td>True</td>\n",
              "      <td>True</td>\n",
              "      <td>True</td>\n",
              "      <td>True</td>\n",
              "    </tr>\n",
              "  </tbody>\n",
              "</table>\n",
              "<p>400 rows × 9 columns</p>\n",
              "</div>\n",
              "      <button class=\"colab-df-convert\" onclick=\"convertToInteractive('df-1725f9aa-2252-4197-a65c-8f2080d6772c')\"\n",
              "              title=\"Convert this dataframe to an interactive table.\"\n",
              "              style=\"display:none;\">\n",
              "        \n",
              "  <svg xmlns=\"http://www.w3.org/2000/svg\" height=\"24px\"viewBox=\"0 0 24 24\"\n",
              "       width=\"24px\">\n",
              "    <path d=\"M0 0h24v24H0V0z\" fill=\"none\"/>\n",
              "    <path d=\"M18.56 5.44l.94 2.06.94-2.06 2.06-.94-2.06-.94-.94-2.06-.94 2.06-2.06.94zm-11 1L8.5 8.5l.94-2.06 2.06-.94-2.06-.94L8.5 2.5l-.94 2.06-2.06.94zm10 10l.94 2.06.94-2.06 2.06-.94-2.06-.94-.94-2.06-.94 2.06-2.06.94z\"/><path d=\"M17.41 7.96l-1.37-1.37c-.4-.4-.92-.59-1.43-.59-.52 0-1.04.2-1.43.59L10.3 9.45l-7.72 7.72c-.78.78-.78 2.05 0 2.83L4 21.41c.39.39.9.59 1.41.59.51 0 1.02-.2 1.41-.59l7.78-7.78 2.81-2.81c.8-.78.8-2.07 0-2.86zM5.41 20L4 18.59l7.72-7.72 1.47 1.35L5.41 20z\"/>\n",
              "  </svg>\n",
              "      </button>\n",
              "      \n",
              "  <style>\n",
              "    .colab-df-container {\n",
              "      display:flex;\n",
              "      flex-wrap:wrap;\n",
              "      gap: 12px;\n",
              "    }\n",
              "\n",
              "    .colab-df-convert {\n",
              "      background-color: #E8F0FE;\n",
              "      border: none;\n",
              "      border-radius: 50%;\n",
              "      cursor: pointer;\n",
              "      display: none;\n",
              "      fill: #1967D2;\n",
              "      height: 32px;\n",
              "      padding: 0 0 0 0;\n",
              "      width: 32px;\n",
              "    }\n",
              "\n",
              "    .colab-df-convert:hover {\n",
              "      background-color: #E2EBFA;\n",
              "      box-shadow: 0px 1px 2px rgba(60, 64, 67, 0.3), 0px 1px 3px 1px rgba(60, 64, 67, 0.15);\n",
              "      fill: #174EA6;\n",
              "    }\n",
              "\n",
              "    [theme=dark] .colab-df-convert {\n",
              "      background-color: #3B4455;\n",
              "      fill: #D2E3FC;\n",
              "    }\n",
              "\n",
              "    [theme=dark] .colab-df-convert:hover {\n",
              "      background-color: #434B5C;\n",
              "      box-shadow: 0px 1px 3px 1px rgba(0, 0, 0, 0.15);\n",
              "      filter: drop-shadow(0px 1px 2px rgba(0, 0, 0, 0.3));\n",
              "      fill: #FFFFFF;\n",
              "    }\n",
              "  </style>\n",
              "\n",
              "      <script>\n",
              "        const buttonEl =\n",
              "          document.querySelector('#df-1725f9aa-2252-4197-a65c-8f2080d6772c button.colab-df-convert');\n",
              "        buttonEl.style.display =\n",
              "          google.colab.kernel.accessAllowed ? 'block' : 'none';\n",
              "\n",
              "        async function convertToInteractive(key) {\n",
              "          const element = document.querySelector('#df-1725f9aa-2252-4197-a65c-8f2080d6772c');\n",
              "          const dataTable =\n",
              "            await google.colab.kernel.invokeFunction('convertToInteractive',\n",
              "                                                     [key], {});\n",
              "          if (!dataTable) return;\n",
              "\n",
              "          const docLinkHtml = 'Like what you see? Visit the ' +\n",
              "            '<a target=\"_blank\" href=https://colab.research.google.com/notebooks/data_table.ipynb>data table notebook</a>'\n",
              "            + ' to learn more about interactive tables.';\n",
              "          element.innerHTML = '';\n",
              "          dataTable['output_type'] = 'display_data';\n",
              "          await google.colab.output.renderOutput(dataTable, element);\n",
              "          const docLink = document.createElement('div');\n",
              "          docLink.innerHTML = docLinkHtml;\n",
              "          element.appendChild(docLink);\n",
              "        }\n",
              "      </script>\n",
              "    </div>\n",
              "  </div>\n",
              "  "
            ]
          },
          "metadata": {},
          "execution_count": 697
        }
      ]
    },
    {
      "cell_type": "markdown",
      "source": [
        "En este caso no requiere una limpieza ya que no hay datos nulos.\n",
        "\n",
        "Pero se borran los datos de los números seriales ya que estos datos no servirán para realizar un correcto análisis."
      ],
      "metadata": {
        "id": "YbS6xM4zhiFR"
      }
    },
    {
      "cell_type": "code",
      "source": [
        "df = df.drop(['Serial No.'], axis=1)"
      ],
      "metadata": {
        "id": "zqAsffiamzKx"
      },
      "execution_count": 698,
      "outputs": []
    },
    {
      "cell_type": "markdown",
      "source": [
        "Ahora en la siguiente descripción, se muestra las medias de las 9 columnas y de igual manera sus desviaciones estándar.\n",
        "\n",
        "Teniendo en cuenta que estas medidas no se toman en cuenta los datos de la columna borrada ya que solo es el número de serial de cada estudiante."
      ],
      "metadata": {
        "id": "Ix3pi8rDiZe1"
      }
    },
    {
      "cell_type": "code",
      "source": [
        "df.describe().T"
      ],
      "metadata": {
        "colab": {
          "base_uri": "https://localhost:8080/",
          "height": 344
        },
        "id": "8tnoY9iiitSS",
        "outputId": "41c9c8a4-c652-4001-ac7f-c2164339d7db"
      },
      "execution_count": 699,
      "outputs": [
        {
          "output_type": "execute_result",
          "data": {
            "text/plain": [
              "                   count        mean        std     min     25%     50%  \\\n",
              "GRE Score          400.0  316.807500  11.473646  290.00  308.00  317.00   \n",
              "TOEFL Score        400.0  107.410000   6.069514   92.00  103.00  107.00   \n",
              "University Rating  400.0    3.087500   1.143728    1.00    2.00    3.00   \n",
              "SOP                400.0    3.400000   1.006869    1.00    2.50    3.50   \n",
              "LOR                400.0    3.452500   0.898478    1.00    3.00    3.50   \n",
              "CGPA               400.0    8.598925   0.596317    6.80    8.17    8.61   \n",
              "Research           400.0    0.547500   0.498362    0.00    0.00    1.00   \n",
              "Chance of Admit    400.0    0.724350   0.142609    0.34    0.64    0.73   \n",
              "\n",
              "                        75%     max  \n",
              "GRE Score          325.0000  340.00  \n",
              "TOEFL Score        112.0000  120.00  \n",
              "University Rating    4.0000    5.00  \n",
              "SOP                  4.0000    5.00  \n",
              "LOR                  4.0000    5.00  \n",
              "CGPA                 9.0625    9.92  \n",
              "Research             1.0000    1.00  \n",
              "Chance of Admit      0.8300    0.97  "
            ],
            "text/html": [
              "\n",
              "  <div id=\"df-f6d9eb92-39af-4e39-b6e6-ee3d5045aed0\">\n",
              "    <div class=\"colab-df-container\">\n",
              "      <div>\n",
              "<style scoped>\n",
              "    .dataframe tbody tr th:only-of-type {\n",
              "        vertical-align: middle;\n",
              "    }\n",
              "\n",
              "    .dataframe tbody tr th {\n",
              "        vertical-align: top;\n",
              "    }\n",
              "\n",
              "    .dataframe thead th {\n",
              "        text-align: right;\n",
              "    }\n",
              "</style>\n",
              "<table border=\"1\" class=\"dataframe\">\n",
              "  <thead>\n",
              "    <tr style=\"text-align: right;\">\n",
              "      <th></th>\n",
              "      <th>count</th>\n",
              "      <th>mean</th>\n",
              "      <th>std</th>\n",
              "      <th>min</th>\n",
              "      <th>25%</th>\n",
              "      <th>50%</th>\n",
              "      <th>75%</th>\n",
              "      <th>max</th>\n",
              "    </tr>\n",
              "  </thead>\n",
              "  <tbody>\n",
              "    <tr>\n",
              "      <th>GRE Score</th>\n",
              "      <td>400.0</td>\n",
              "      <td>316.807500</td>\n",
              "      <td>11.473646</td>\n",
              "      <td>290.00</td>\n",
              "      <td>308.00</td>\n",
              "      <td>317.00</td>\n",
              "      <td>325.0000</td>\n",
              "      <td>340.00</td>\n",
              "    </tr>\n",
              "    <tr>\n",
              "      <th>TOEFL Score</th>\n",
              "      <td>400.0</td>\n",
              "      <td>107.410000</td>\n",
              "      <td>6.069514</td>\n",
              "      <td>92.00</td>\n",
              "      <td>103.00</td>\n",
              "      <td>107.00</td>\n",
              "      <td>112.0000</td>\n",
              "      <td>120.00</td>\n",
              "    </tr>\n",
              "    <tr>\n",
              "      <th>University Rating</th>\n",
              "      <td>400.0</td>\n",
              "      <td>3.087500</td>\n",
              "      <td>1.143728</td>\n",
              "      <td>1.00</td>\n",
              "      <td>2.00</td>\n",
              "      <td>3.00</td>\n",
              "      <td>4.0000</td>\n",
              "      <td>5.00</td>\n",
              "    </tr>\n",
              "    <tr>\n",
              "      <th>SOP</th>\n",
              "      <td>400.0</td>\n",
              "      <td>3.400000</td>\n",
              "      <td>1.006869</td>\n",
              "      <td>1.00</td>\n",
              "      <td>2.50</td>\n",
              "      <td>3.50</td>\n",
              "      <td>4.0000</td>\n",
              "      <td>5.00</td>\n",
              "    </tr>\n",
              "    <tr>\n",
              "      <th>LOR</th>\n",
              "      <td>400.0</td>\n",
              "      <td>3.452500</td>\n",
              "      <td>0.898478</td>\n",
              "      <td>1.00</td>\n",
              "      <td>3.00</td>\n",
              "      <td>3.50</td>\n",
              "      <td>4.0000</td>\n",
              "      <td>5.00</td>\n",
              "    </tr>\n",
              "    <tr>\n",
              "      <th>CGPA</th>\n",
              "      <td>400.0</td>\n",
              "      <td>8.598925</td>\n",
              "      <td>0.596317</td>\n",
              "      <td>6.80</td>\n",
              "      <td>8.17</td>\n",
              "      <td>8.61</td>\n",
              "      <td>9.0625</td>\n",
              "      <td>9.92</td>\n",
              "    </tr>\n",
              "    <tr>\n",
              "      <th>Research</th>\n",
              "      <td>400.0</td>\n",
              "      <td>0.547500</td>\n",
              "      <td>0.498362</td>\n",
              "      <td>0.00</td>\n",
              "      <td>0.00</td>\n",
              "      <td>1.00</td>\n",
              "      <td>1.0000</td>\n",
              "      <td>1.00</td>\n",
              "    </tr>\n",
              "    <tr>\n",
              "      <th>Chance of Admit</th>\n",
              "      <td>400.0</td>\n",
              "      <td>0.724350</td>\n",
              "      <td>0.142609</td>\n",
              "      <td>0.34</td>\n",
              "      <td>0.64</td>\n",
              "      <td>0.73</td>\n",
              "      <td>0.8300</td>\n",
              "      <td>0.97</td>\n",
              "    </tr>\n",
              "  </tbody>\n",
              "</table>\n",
              "</div>\n",
              "      <button class=\"colab-df-convert\" onclick=\"convertToInteractive('df-f6d9eb92-39af-4e39-b6e6-ee3d5045aed0')\"\n",
              "              title=\"Convert this dataframe to an interactive table.\"\n",
              "              style=\"display:none;\">\n",
              "        \n",
              "  <svg xmlns=\"http://www.w3.org/2000/svg\" height=\"24px\"viewBox=\"0 0 24 24\"\n",
              "       width=\"24px\">\n",
              "    <path d=\"M0 0h24v24H0V0z\" fill=\"none\"/>\n",
              "    <path d=\"M18.56 5.44l.94 2.06.94-2.06 2.06-.94-2.06-.94-.94-2.06-.94 2.06-2.06.94zm-11 1L8.5 8.5l.94-2.06 2.06-.94-2.06-.94L8.5 2.5l-.94 2.06-2.06.94zm10 10l.94 2.06.94-2.06 2.06-.94-2.06-.94-.94-2.06-.94 2.06-2.06.94z\"/><path d=\"M17.41 7.96l-1.37-1.37c-.4-.4-.92-.59-1.43-.59-.52 0-1.04.2-1.43.59L10.3 9.45l-7.72 7.72c-.78.78-.78 2.05 0 2.83L4 21.41c.39.39.9.59 1.41.59.51 0 1.02-.2 1.41-.59l7.78-7.78 2.81-2.81c.8-.78.8-2.07 0-2.86zM5.41 20L4 18.59l7.72-7.72 1.47 1.35L5.41 20z\"/>\n",
              "  </svg>\n",
              "      </button>\n",
              "      \n",
              "  <style>\n",
              "    .colab-df-container {\n",
              "      display:flex;\n",
              "      flex-wrap:wrap;\n",
              "      gap: 12px;\n",
              "    }\n",
              "\n",
              "    .colab-df-convert {\n",
              "      background-color: #E8F0FE;\n",
              "      border: none;\n",
              "      border-radius: 50%;\n",
              "      cursor: pointer;\n",
              "      display: none;\n",
              "      fill: #1967D2;\n",
              "      height: 32px;\n",
              "      padding: 0 0 0 0;\n",
              "      width: 32px;\n",
              "    }\n",
              "\n",
              "    .colab-df-convert:hover {\n",
              "      background-color: #E2EBFA;\n",
              "      box-shadow: 0px 1px 2px rgba(60, 64, 67, 0.3), 0px 1px 3px 1px rgba(60, 64, 67, 0.15);\n",
              "      fill: #174EA6;\n",
              "    }\n",
              "\n",
              "    [theme=dark] .colab-df-convert {\n",
              "      background-color: #3B4455;\n",
              "      fill: #D2E3FC;\n",
              "    }\n",
              "\n",
              "    [theme=dark] .colab-df-convert:hover {\n",
              "      background-color: #434B5C;\n",
              "      box-shadow: 0px 1px 3px 1px rgba(0, 0, 0, 0.15);\n",
              "      filter: drop-shadow(0px 1px 2px rgba(0, 0, 0, 0.3));\n",
              "      fill: #FFFFFF;\n",
              "    }\n",
              "  </style>\n",
              "\n",
              "      <script>\n",
              "        const buttonEl =\n",
              "          document.querySelector('#df-f6d9eb92-39af-4e39-b6e6-ee3d5045aed0 button.colab-df-convert');\n",
              "        buttonEl.style.display =\n",
              "          google.colab.kernel.accessAllowed ? 'block' : 'none';\n",
              "\n",
              "        async function convertToInteractive(key) {\n",
              "          const element = document.querySelector('#df-f6d9eb92-39af-4e39-b6e6-ee3d5045aed0');\n",
              "          const dataTable =\n",
              "            await google.colab.kernel.invokeFunction('convertToInteractive',\n",
              "                                                     [key], {});\n",
              "          if (!dataTable) return;\n",
              "\n",
              "          const docLinkHtml = 'Like what you see? Visit the ' +\n",
              "            '<a target=\"_blank\" href=https://colab.research.google.com/notebooks/data_table.ipynb>data table notebook</a>'\n",
              "            + ' to learn more about interactive tables.';\n",
              "          element.innerHTML = '';\n",
              "          dataTable['output_type'] = 'display_data';\n",
              "          await google.colab.output.renderOutput(dataTable, element);\n",
              "          const docLink = document.createElement('div');\n",
              "          docLink.innerHTML = docLinkHtml;\n",
              "          element.appendChild(docLink);\n",
              "        }\n",
              "      </script>\n",
              "    </div>\n",
              "  </div>\n",
              "  "
            ]
          },
          "metadata": {},
          "execution_count": 699
        }
      ]
    },
    {
      "cell_type": "markdown",
      "source": [
        "Presentación con el modelo c++"
      ],
      "metadata": {
        "id": "BPsxVhIYkJYf"
      }
    },
    {
      "cell_type": "markdown",
      "source": [
        "![Captura desde 2022-11-22 23-00-37.png](data:image/png;base64,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)"
      ],
      "metadata": {
        "id": "CQPiEOTlkofj"
      }
    },
    {
      "cell_type": "markdown",
      "source": [
        "Se normalizan los datos y se muestra su desviación estándar en general."
      ],
      "metadata": {
        "id": "3qZTpLCZlJOf"
      }
    },
    {
      "cell_type": "code",
      "source": [
        "datos=Normalizer().fit_transform(df)\n",
        "type(datos)"
      ],
      "metadata": {
        "colab": {
          "base_uri": "https://localhost:8080/"
        },
        "id": "7oR1X4lykrOW",
        "outputId": "cd064d26-8b03-43fb-ab21-f87c63cdd4c4"
      },
      "execution_count": 700,
      "outputs": [
        {
          "output_type": "execute_result",
          "data": {
            "text/plain": [
              "numpy.ndarray"
            ]
          },
          "metadata": {},
          "execution_count": 700
        }
      ]
    },
    {
      "cell_type": "code",
      "source": [
        "datos.std()"
      ],
      "metadata": {
        "colab": {
          "base_uri": "https://localhost:8080/"
        },
        "id": "kXO50AzVlOfx",
        "outputId": "0c694e21-f700-4a6a-9b19-1dff5b85653d"
      },
      "execution_count": 701,
      "outputs": [
        {
          "output_type": "execute_result",
          "data": {
            "text/plain": [
              "0.3122728046134185"
            ]
          },
          "metadata": {},
          "execution_count": 701
        }
      ]
    },
    {
      "cell_type": "markdown",
      "source": [
        "Se presenta la visualización de cada columna que se encuentra en el dataset"
      ],
      "metadata": {
        "id": "UyPiUeWqlXB-"
      }
    },
    {
      "cell_type": "code",
      "source": [
        "df.hist(figsize=(15,15), color='#33FFC7')\n",
        "plt.show()"
      ],
      "metadata": {
        "colab": {
          "base_uri": "https://localhost:8080/",
          "height": 769
        },
        "id": "fkwG00MUlW4N",
        "outputId": "ff8e473c-e772-487b-e556-2e26436ffeb7"
      },
      "execution_count": 702,
      "outputs": [
        {
          "output_type": "display_data",
          "data": {
            "text/plain": [
              "<Figure size 1080x1080 with 9 Axes>"
            ],
            "image/png": "[encoded data removed]"
          },
          "metadata": {
            "needs_background": "light"
          }
        }
      ]
    },
    {
      "cell_type": "markdown",
      "source": [
        "Se realiza el entrenamiento y el test respectivo."
      ],
      "metadata": {
        "id": "-j6lmqtWnoLp"
      }
    },
    {
      "cell_type": "code",
      "source": [
        "train, test = train_test_split(df, test_size = 0.30, random_state = 100) "
      ],
      "metadata": {
        "id": "kRI-KdMssuUg"
      },
      "execution_count": 703,
      "outputs": []
    },
    {
      "cell_type": "code",
      "source": [
        "data = df.values"
      ],
      "metadata": {
        "id": "idA8ZK8P46ou"
      },
      "execution_count": 704,
      "outputs": []
    },
    {
      "cell_type": "markdown",
      "source": [
        "Se representan los datos en x y Y."
      ],
      "metadata": {
        "id": "LPBLtsLWnkW0"
      }
    },
    {
      "cell_type": "code",
      "source": [
        "x = df[['GRE Score','TOEFL Score','University Rating', 'SOP', 'CGPA', 'Research']].values.reshape(-1, 1)"
      ],
      "metadata": {
        "id": "rO5niG8G2iKy"
      },
      "execution_count": 705,
      "outputs": []
    },
    {
      "cell_type": "code",
      "source": [
        "y = df[['GRE Score','TOEFL Score','University Rating', 'SOP', 'CGPA', 'Research']].values.reshape(-1, 1)"
      ],
      "metadata": {
        "id": "HvM1vPgOXm84"
      },
      "execution_count": 706,
      "outputs": []
    },
    {
      "cell_type": "code",
      "source": [
        "x"
      ],
      "metadata": {
        "colab": {
          "base_uri": "https://localhost:8080/"
        },
        "id": "DERcdBDe2jox",
        "outputId": "4b51e84d-a7c4-4471-e59c-ee0ebbe98617"
      },
      "execution_count": 707,
      "outputs": [
        {
          "output_type": "execute_result",
          "data": {
            "text/plain": [
              "array([[337.  ],\n",
              "       [118.  ],\n",
              "       [  4.  ],\n",
              "       ...,\n",
              "       [  5.  ],\n",
              "       [  9.66],\n",
              "       [  1.  ]])"
            ]
          },
          "metadata": {},
          "execution_count": 707
        }
      ]
    },
    {
      "cell_type": "code",
      "source": [
        "x.size"
      ],
      "metadata": {
        "colab": {
          "base_uri": "https://localhost:8080/"
        },
        "id": "TvDU793k5Nd5",
        "outputId": "d5ad83b2-16ec-4d2b-ea7e-c2941c85c366"
      },
      "execution_count": 708,
      "outputs": [
        {
          "output_type": "execute_result",
          "data": {
            "text/plain": [
              "2400"
            ]
          },
          "metadata": {},
          "execution_count": 708
        }
      ]
    },
    {
      "cell_type": "code",
      "source": [
        "#x.reshape(-1, 1)"
      ],
      "metadata": {
        "id": "XZ-fz_dcT3CH"
      },
      "execution_count": 709,
      "outputs": []
    },
    {
      "cell_type": "code",
      "source": [
        "#x = x.transpose()"
      ],
      "metadata": {
        "id": "4rf_ZSNIFT7W"
      },
      "execution_count": 710,
      "outputs": []
    },
    {
      "cell_type": "code",
      "source": [
        "y"
      ],
      "metadata": {
        "colab": {
          "base_uri": "https://localhost:8080/"
        },
        "id": "9kQUvyjs5C3W",
        "outputId": "e087ef0e-05ce-4328-d442-4c11bf0f327b"
      },
      "execution_count": 711,
      "outputs": [
        {
          "output_type": "execute_result",
          "data": {
            "text/plain": [
              "array([[337.  ],\n",
              "       [118.  ],\n",
              "       [  4.  ],\n",
              "       ...,\n",
              "       [  5.  ],\n",
              "       [  9.66],\n",
              "       [  1.  ]])"
            ]
          },
          "metadata": {},
          "execution_count": 711
        }
      ]
    },
    {
      "cell_type": "code",
      "source": [
        "y.size"
      ],
      "metadata": {
        "colab": {
          "base_uri": "https://localhost:8080/"
        },
        "id": "Ba3w0X965PTk",
        "outputId": "c5f4c9c7-3e9d-4525-bf2a-aa94f3630e0f"
      },
      "execution_count": 712,
      "outputs": [
        {
          "output_type": "execute_result",
          "data": {
            "text/plain": [
              "2400"
            ]
          },
          "metadata": {},
          "execution_count": 712
        }
      ]
    },
    {
      "cell_type": "markdown",
      "source": [
        "Se realiza la separación de los datos de entrenamiento y de testeo tanto en x como en y, de igual manera que se asignan sus transformaciones según StandardScaler.\n",
        "\n",
        "\n",
        "Se realizan las regresiones y predicciones para finalmente presentar estos resultados datos en una gráfica."
      ],
      "metadata": {
        "id": "8Qo8mGp15Yjw"
      }
    },
    {
      "cell_type": "code",
      "source": [
        "# Seleccionar conjunto de training y test\n",
        "xtrain, xtest, ytrain, ytest = train_test_split(x, y, test_size = 0.8, \n",
        "                                                    random_state = 0)"
      ],
      "metadata": {
        "id": "vw3Xy1CL5nI1"
      },
      "execution_count": 713,
      "outputs": []
    },
    {
      "cell_type": "code",
      "source": [
        "# Escalado de las variables\n",
        "from sklearn.preprocessing import StandardScaler\n",
        "st_x = StandardScaler()\n",
        "xtrain = st_x.fit_transform(xtrain)\n",
        "xtest = st_x.transform(xtest)\n",
        "st_y = StandardScaler()\n",
        "ytrain = st_y.fit_transform(ytrain).reshape(-1)\n",
        "ytest = st_y.transform(ytest).reshape(-1)"
      ],
      "metadata": {
        "id": "ZS5mAzA2zVY5"
      },
      "execution_count": 714,
      "outputs": []
    },
    {
      "cell_type": "markdown",
      "source": [
        "Se hace la transformación de los datos en y para su lectura"
      ],
      "metadata": {
        "id": "tp4hX_yqoZz2"
      }
    },
    {
      "cell_type": "code",
      "source": [
        "from sklearn import preprocessing\n",
        "from sklearn import utils\n",
        "lab = preprocessing.LabelEncoder()\n",
        "y_transformed = lab.fit_transform(y)"
      ],
      "metadata": {
        "colab": {
          "base_uri": "https://localhost:8080/"
        },
        "id": "gb7HhQ3Hhplp",
        "outputId": "38a2689d-97af-4393-aa2e-0f72b20e816c"
      },
      "execution_count": 715,
      "outputs": [
        {
          "output_type": "stream",
          "name": "stderr",
          "text": [
            "/usr/local/lib/python3.7/dist-packages/sklearn/preprocessing/_label.py:115: DataConversionWarning: A column-vector y was passed when a 1d array was expected. Please change the shape of y to (n_samples, ), for example using ravel().\n",
            "  y = column_or_1d(y, warn=True)\n"
          ]
        }
      ]
    },
    {
      "cell_type": "code",
      "source": [
        "# Aplicación del modelo con librería de sklearn\n",
        "regression_py = LogisticRegression() \n",
        "regression_py.fit(x, y_transformed)\n",
        "ytrain_predict_py = regression_py.predict(xtrain)\n",
        "ytest_predict_py = regression_py.predict(xtest) "
      ],
      "metadata": {
        "colab": {
          "base_uri": "https://localhost:8080/"
        },
        "id": "CTUf2qNr6K92",
        "outputId": "ea9ad002-183b-4590-b7a0-8a808ac6cf0a"
      },
      "execution_count": 727,
      "outputs": [
        {
          "output_type": "stream",
          "name": "stderr",
          "text": [
            "/usr/local/lib/python3.7/dist-packages/sklearn/linear_model/_logistic.py:818: ConvergenceWarning: lbfgs failed to converge (status=1):\n",
            "STOP: TOTAL NO. of ITERATIONS REACHED LIMIT.\n",
            "\n",
            "Increase the number of iterations (max_iter) or scale the data as shown in:\n",
            "    https://scikit-learn.org/stable/modules/preprocessing.html\n",
            "Please also refer to the documentation for alternative solver options:\n",
            "    https://scikit-learn.org/stable/modules/linear_model.html#logistic-regression\n",
            "  extra_warning_msg=_LOGISTIC_SOLVER_CONVERGENCE_MSG,\n"
          ]
        }
      ]
    },
    {
      "cell_type": "code",
      "source": [
        "# Gráfica de regresión conjunto de test\n",
        "\n",
        "plt.figure(figsize=(10,10))\n",
        "plt.scatter(xtest, ytest, color = \"red\") \n",
        "plt.plot(xtrain, ytrain_predict_py, color = \"blue\")\n",
        "plt.plot(ytest, ytest_predict_py, color = \"green\")\n",
        "plt.legend(('Regresión Logística',),\n",
        "            loc='lower right')\n",
        "plt.title(\"Costo por cantidad de iteraciones\")\n",
        "plt.xlabel(\"iteraciones\")\n",
        "plt.ylabel(\"costo\")\n",
        "plt.show()"
      ],
      "metadata": {
        "colab": {
          "base_uri": "https://localhost:8080/",
          "height": 621
        },
        "id": "Xy2a4lq-6Q70",
        "outputId": "1ac69dba-f5c5-4a56-80e6-81700ed8cc4a"
      },
      "execution_count": 717,
      "outputs": [
        {
          "output_type": "display_data",
          "data": {
            "text/plain": [
              "<Figure size 720x720 with 1 Axes>"
            ],
            "image/png": "[encoded data removed]"
          },
          "metadata": {
            "needs_background": "light"
          }
        }
      ]
    },
    {
      "cell_type": "markdown",
      "source": [
        "Se realiza la gráfica de la relación entre variables."
      ],
      "metadata": {
        "id": "tlDFwkB4owVc"
      }
    },
    {
      "cell_type": "code",
      "source": [
        "plt.figure(figsize=(10,10))\n",
        "sample = np.random.normal(ytrain_predict_py*10)\n",
        "sn.histplot(sample**2, kde = True)"
      ],
      "metadata": {
        "colab": {
          "base_uri": "https://localhost:8080/",
          "height": 609
        },
        "id": "oK1EVu5R6Q_r",
        "outputId": "49851786-c6f8-4095-b1d2-ea2a83e719c2"
      },
      "execution_count": 722,
      "outputs": [
        {
          "output_type": "execute_result",
          "data": {
            "text/plain": [
              "<matplotlib.axes._subplots.AxesSubplot at 0x7fd7bd9ab4d0>"
            ]
          },
          "metadata": {},
          "execution_count": 722
        },
        {
          "output_type": "display_data",
          "data": {
            "text/plain": [
              "<Figure size 720x720 with 1 Axes>"
            ],
            "image/png": "[encoded data removed]"
          },
          "metadata": {
            "needs_background": "light"
          }
        }
      ]
    },
    {
      "cell_type": "markdown",
      "source": [
        "Presentación con el modelo c++"
      ],
      "metadata": {
        "id": "H3APyJsSo-hI"
      }
    },
    {
      "cell_type": "markdown",
      "source": [
        "![Captura desde 2022-11-23 03-31-24.png](data:image/png;base64,iVBORw0KGgoAAAANSUhEUgAAAYsAAAC2CAYAAAAoc6FMAAAABHNCSVQICAgIfAhkiAAAABl0RVh0U29mdHdhcmUAZ25vbWUtc2NyZWVuc2hvdO8Dvz4AAAAmdEVYdENyZWF0aW9uIFRpbWUAV2VkIE5vdiAyMyAwMzozMToyMyAyMDIyERQjQgAAIABJREFUeJztnXd8jWf7wL/nnCwJkSFBlJjxUhFEUWq0ttaokahSTRFCIkaNqhWllB+xqVqlRYuoraRG7Vk7sWciQkJkkHXO749sJeeJniTI9f188ke913tf13OdJ8/9PPdzcn9VgA6ghnlFBEEQBOFFqPO7AEEQBOH1RyYLQRAEQS8Fd7LQlKPpt6Po2dQaVX7XogCVTR3adalMobxK+Ib1RxCE3EVdpkwZTE1N868Ci1I4t2pClWJ5fEkyqkzLId1p9D/z1/9iaOZE15/nMLR/MyqY51HON6U/eXD+qOzcmBd5hX9iU36O/NKGl/3GWDQawW93j7Bs6LsY5VpFgpD3qG/fvk18fHyWfzRxbITHol/ZcPMMR8KPse3QTwzv6UyRXPh91FT5nO9WjaJF2YL7kJM9RlQe/ANfGv2MT4f5nI/L73peL/Li/NFF/snE+h/Tpc4X/HQ8KZtIFWZlKlDKyhrHyvYY51pFBkRVFGevKfx88SRHIk6xdc8PfPZe0dy5QTBoLhXmFZvw+bS5LD11gH0hS+lcMtNIZo409VvAmiunOfboDIEnlzGie2UsXpLMtOrnzLoazPEDXpTT5KBm4zoMDw5Ov5HI/HPiwihqpJ0EOazndeRfNz+a8p35Ydd31H64nZ9H/cS5+0bYVauLq40pCbr8KLGgk8TlOb3oOjOSR0/zu5YCSnIU94KjQF2cWrHZ/RLoiPh1CF0vlCbpUhCv/8elpkT3qcyeXI2L0/0YchRqDBjBkPVTia3vxaa72tc0lynlekxmxsRqhKxby4axv3Lrbhh3I9M+m0K4+i1mslsoy4f2YuxVFeXdBjN87iKM7rVm0l9Z77iMKnZhyh8+OGnjyfrpKqg56QK/uLuz3TTjqq+y+YABi/tTcvchbiblvJ7Xlay3Yyobmk8YwQdP1zGi1VAWr9rL0b8C2TJrEn7+J0h//jAqwfvD/FkZdIojESfZumcGvT4qQZYJuXAVOsz8mfXXT3Ms6iKHQg6xac9I6hdJDUidkU/s64OjaTm+3Jc2O19i97yGGXdlCnIpwrwCrX9YRsCtcxx7eIw/Nvfh3eenSrU1Lv2+Y8GRffz98Bx7z6/hO29XrDLN/nqPS2VF/fFLWHX2MAcigzj+8Bgb/5xCj4Z2Gc3WVMbz8EV2zaqfcZymrZgacZElA0plxKXWMz9wAxvvvGI9edwfJajsWjHmyN/sfRDEicdnCDz1M6N6/A/zLOMYU7yJB2M2bmZ76HmOPzrLvstbmeldJeWzV3L+KOyzsnr0HVPqUlXMP2w+sIk/Fr1oqUpDlbHbOPH8XWj0McY1N840lv56VFY16DxlBgsP7mLH7dMcjQriyL39zOtfTvmLSKPKdBzYEDZOZNTETRzauYkFHt+zW9WQ7j2dsv6OqWxo5L+FvSHb+PZj25w/DeQklx5M6/jww3hr1rZuj/fQn9i85TBnT98gMu0CZVSRBs1LcX/NLBYFnOTy2RPs8JvOljvFcHnfMet1yvI9vFcOxnKRF5O3RGWdLJTUrIsl9MwZzh07nfJz/Da2nd2pEb6S8d/s5bEuZ/W8zmS5HKisG9GqRWEuT13GkUcvu4MqTO2Jy/D3SGLnhJHMC1JT6XMfvNYtx7p9Z/5vfwxgRPVv5/Jtu9ssHd6P/ddiUVvaU6ZcIrfTJtHEsyxu05qAmr2Ztbg+R3v3ZcW5JEBHclQYSYpzKUBlTRP/pUxoG8GmCUOZdsMYx8ZueNTLHFQI52+XMb9PApv8xrHwdAw2DXsy2G8h30W3x/fnULRKjktljuP771MxYjkjB+7liYkDrr18GLBhGbbt3Zh5UOldhIHqydP+KEP3OIg/p45l292HxKms+V+3IQydM5u4yx8z82gioMau4xSWLW1B8u6V/DxoJjfvP8XE3hGLmyEpeRSdP4aqR8EYkduZUOcEhTS2tF74Mz1fGJXMtXmedF5jkvKfFtX5auVkWsRtYFum5S0l9ajs69Khb1N0P09m+oRbREQnYWRZDNW1EMWfg8quJi4VtJzxP4KlxyJ+H23Gzx8P4dAJLU3q1cBKFUxE2mXAqCy1m1WkqBW837Asmq0ROepxjnJlO1BRmvh0xTHhDi1W7sLTwYyEkPPsmTOV2SsuEqsDku9z+1Yi9h82490i/3AmWodxuVq8a/+YiyfukJw2ltqOZrOm0SxoAh4zzuE47b/XXKiBF4M6aQj8cgH/pF2elNbzmpNlslCXLkspkxgunL3z0hNOVfJjPL5y5MoPbfGbd41k4MjfVzGutIneQ9uw/MDvPNQZYV3cCh7t5dTe45x/mNKOs/syj/SMyOs3iLKJIlGXSNSta9y8nPwKufQfpPqdT+jW2Zaz47ozaWHKsR3em0ytvu9hm5bLvg19BpTisG9Lpv4WmXKHcfISxq77+K5rU+xXriRMq+S4UtCGnOfg3mPEAyf2BsPeAL4Y2oaVh9YRob9kg9eTN/1RmDDxFscCbqX/Z9A5M2p3mUWNuiVRH72N1qQWPSe0ofA+P7p2WUNo+mlxKNMg+s8fxeirR8kYydHcvxoN6lgispmoEyLucjMCUNnQcI43rYocYtqn0zj+ONOJrLieeK5uXc+uXcomtOdR29tjo4rmTNgzCjd8BxtbM0paxXH4XhyqWnbYaCAibUZIPM3P/Sbw7CMVR378J0cTRY5zZYdxNd77wIIHx3ayesFBbkRoKN3Ol29mL8biURvGbHqMThfO1mHjcP3dj4XHa7Jn+22Kf9IQ/H2Y8WfaFVyNfZfxDHPdz/jGf/JAq8Hxv9asLkmb4V2wOzGbRVseZzylKKrn9SfrQoNWi06nI7vrr1FVZyqbhLJ1/62MGTHpJsf3h+DVtRoVjH/nYcIzDk2exI7fxjHv/Iec3rqVHWsC2P7XDWJzsDSpLJf+cTSV/0dFzT02HX353a9RtRpUsbDEeuF+jizI+HeVkTHqGyWxU0OY9hWPK+Eqh/aG0tu9OhWM1xGh4JqWq/U8h+H6oyyf2q42Xcd50/7DypSwVhMXHodZIRX3zFLuuNXvuOBcSsvZqX9yLw9uu/TVY3g0OHSbyNjPVWz5bBjrrmS9SuZ9PUkETXTnkyVqIu4mUqfHi2K0RBxcxfyDeZHr5agsimNfVMvtHb+zc28EOuDyxQmUabmFXm4NMN+0lVhUmJcsS6kiYRxcsomzxi40Ty5M5c6dqLf6NDtvJaOy+QifCS6cGNmOwy9dRclZzeqqnXFrmMA+j/XcznLe6q/nTSDLZKENvUtYUmHKV3FAvfPWy58uFAyccCWAMXX3srJFG1p1/oReq3rT7+QCRnSbw8nIzB9O9pOTQb4soNOhRYVanc1oKhWq5Lv88VU/frnw3IeXGMW91N9n5ceVpQDQakGV9pJIi1YLGuNsvlyZq/U8X57h+qMX9Tt0Xv4Tg8oe5scxvhy6FIXKtiFeq4akP8Wg06IFtFols09254+CPiupJyfoudkC0FTsxtipDYmc+yXTd0RmjTd0PdmgDQ8nUleEYiXMUSVHcf8uoLLCrqQ5ugcPiDTgNcxQuXSJiSTp1NjYWKIiZbIgOYywUC0mxWwpooZYk7p4LeqF0YL2jJhxnWRW89us9Qzds4KRowM50Gc36uadaF6qGJol+2m6JGVslZExRqqB/BZSmyk1erMhRzVrqOL2CeUjdzFr53PvPsz01/MmvOLO8i5M9+gwfx9JpOqXPXC1fPGFI+niOYITHKjVMNOLGaOyvNewFInnznMt8xNxYiSXt/7CbI+utK8/lWs1+zGwR5msSZ89I0FVmMKW/34tl6Nc2ZB04SzBCQ6817TiS7/OmBJTkurVzbh3+To3M//ciCDLl4uVHFdm1O9Q4/1SJAcFcyMJ0EYS8VBL4fJlsX3J/ylX68nt/mSHcWWq1zLj6gp/lgUcI+jCJS4eucC9Zxm/XtqQ8wTdU1O9Q3OK63v7l835o6TPSupJR5dIQqIOVWGLbF5+x/PsmQ6VleWLv2puXIFu84ZQ/dpCxk06Sex/qec/ontwmjPX1FRv/j5pv+4qq/d531XNrSOneZx1FsO2wWd4jfmcWvY5/5qywXI9u87VG1CugSvWaf01Lk+FShpibt7mkRbUNhUoVzyBu1fupa9I6J6c559zz7AoVZLCaojb5od7rTZ0qdcW93ptca/3KRPWPSQpeCVDGo9m1wNdzmo2cqJxq9JEBwZy6rkrv5J63gQ0wHiAEsY2oIvhWhDU6eeJ+yeOGCdrMLMuiVPjT+jS1ISzR+4QH32TcNtW9PBuSZn4SOKLOvHhqHF4NnpCwMBJBN5KAMxw9R1LJxdTVMaFsLQvQ+VGzWjWojT31y9hx9mMburiilKzTycaVTAi/AHYVnaloTMEBUegjVGSSwExN7lv05LuPu2pYhJNnLooJd6tw0cda6DdvZLNx6PRxdwgtEhTug1yo469lgSVOTaOTri0bIB9+HnuROmUHZeqCM7dv+CD6jYUSkjAyLoc9YeMxasVBI6cwNbLz4B4nljWoeNXzaikekgUVjhUq8uHuVFPnvZHCTocWrjT8j1rYu5EkmxuRfEKtWjsXh+LY6sJOBiJLjmM64+q0N63J23eK4pOa4SFnQOO1V2pVzmJS5cz7sazO390SvqspJ702hMxdelIh7YVMQ0NB0cX6jklZ6kHktBUaUPHjlUpHB6O9h0X6lfREnwpAh1qHDymM6WXBfu+W8CpZ1bY2NliY2eNWWIU0c90yvoDqGxr82mfWkSuXcq+66/4FVdtBHfiq9N5SEec1Q94bOpEm0nf0NnhJPN8VxD0JNNnalwTr81z+KptY1w1h1gbeE/xi3SD5tJGct+oLp36tMIp4QZ3Ym2oNXA0Xk1jCPh6BodCktA9TcShbTc6fOhA1LVQnprYUbnDQHy8/kfEqpn8ciACbUIMURGPeJz+E4Vlox60KXGcZTP2cD85ZzWrS7ai9+gGhP00hc1nsn5pWkk9b8JfJaj4166zKiyqtaPP6J60aOiEfWEdMSGXOPbrHKZP3sd9LWBUgvpfj8L7q0ZULKYj4sLfBPhNYWlg6sypsqbOMD8GdK9LpTJFMSGeJ7cvcXzNfPyn7SUsyxOBBod2wxnj14Ea5SxRxYRyYek4Bo07QLROQS6lGNlTx2cY/TyaUNWxCJr4Jzy4HsSOsb7M2Zn6MkptjXMvX/r2boZLJVsKaWMIv3yMFX0HsuZcsrLjUjvw2fZAhpYO5mxiaao6mvH0xkm2/zCJ2Wuu8Cy9nhLUHzmWgV82oIK9Kdq4KB7cDGbXuEHM/vOR4erJy/4oxNjxI/pMGkDrDypgb2VCctwTou7d4uCUQXy/Nu3CYIJD8570GfQpDWo5YmOh4tmD21xc9T3Dxv5Nxtyk4PzR02dl9aSgLtEY759G07H+O5g9CyNo2VgGjtmfkisVlU0dei+aQLcmjpjHhxG0fCw+o/cTTTE6btzHmKbPv3tI4OjAJngteaC4HrVTX1Yc7cUVtwb4veIL7pRii+LcbxTDfFtQ2R4iz+xi5YhJrD723FKKyoZGM1bynZuKnZ49+H7rK1zgDJVLXYzavqMY6NmYyiWMibl2lI3jxzN/S0j6i3eTcs3o/b037Zo4YWehJSbkEsdXz2fG5L8IfWG7jKg9fTfz6q6ma+MF3Eg7nRXWbNxoPFs2NWZn6+ZMP/zvNdmc1/P68YLJQvhPpE4Wvg++pnH3bcqXZwRBEF5j3pDVMkEQBCE/kclCEARB0IssQwmCIAh6kScLQRAEQS8yWQiCIAh6KbiTxRtmghNTniAI+Un+TxZiytOPmPJejpjyBCFPeOFkIaa81wkx5WWHmPIMg2nFtow/dYYtP9T+9ySnxHD3thr3UvnP/ck81ousfEqNexaV+HjacgJuneXow+Ns/msq3etb58ldv5jyXnvElJfvvLWmPNDYVqWZlxd9BjSjrLmK+7uej1BiuHtbjXuG6k8GL7XyKTHuqaxo7L+U8S2us2ywB3tCLKk94Fu8188i8QMPfruWu7vXiikvSzfElCemvAJkykNDBU8/fJrEsvmrIay+9oILrRJb3Ntq3DNUf9IOPTsrnxLjXpGGtGtvy0X/sSwMOEnQ0T2s7D+RHU9r4/5F1Vw37okpLx0x5Ykpr2CZ8iCZy1PcaDtZh87IGZ9J/45QYouLfFuNewbqT4QOvVa+53mRcU9lUZjCxjqiIzNNNLEXOH9RR+t3K2HBOZ4obeQrIKa8tFxiyhNT3svqUTLGG2jKA/T6N5TY4h6/rcY9A/UnIkm/lS/roC827ukenOb0VRWfe3hQO3A+J+4lUahUWUoUUYPWBOP0P7HOHcSUl5ZLTHliyiuwpjwlKLHFvW3GPcPUkzMrXzbGvaQgfvb8Hsclg1lwpS+6JFA9iybOVE18wIMsOx/nBmLKS08kpjwx5RUsU54SlBju3lrjnoLTT0k9FgqsfAFhaWdBNsY9IO70L4x0XYNFiRJYm8QTZdaW2UcGk3DkQo6f0nKKmPKyxIgpT0x5BceUpwQltri31bhnqHqUWPnSyca4l0ESsWF3uXu/MM0m9MY5cgdr1t/PmYzqFRBTnpjyxJRXUE15AGa2lK5UGvvi5anj3pKykSc4ejWZIkZPiYpJUmaLe0uNe4bqj06JlS+V7Ix7AGYlK1LZxZna7briNduPHu/eYvkXw1kb/OxfsYZGTHliyjNcfxQiprzXx5SnqTmE3/d6UT7rgjQPF3vQxvcQiaDMFveWGvcM1p8svMTKhz7jnoZq321jsacVD68FczpwK+sXbOCfe3mj2pMtyg2NmPIEQXgLkT02BEEQBL3IZCEIgiDoRZahBEEQBL3Ik4UgCIKgF5ksBEEQBL0U3MniDTPBiSlPEIT8JP8nCzHl6UdMeS9HTHmCkCeIKe+1R0x52SGmvP+CCsuanRm69g+2hZzj2IPjbN7jj0dju6wXhrfVlKdxos+hoOfMdOfxd7fIiDFzpKnfAtZcOc2xR2cIPLmMEd0rY5GeTGEPU3m5cS9n4+QHYsp77RFTXr7ztpryNI60meiNa9jv/Oh5lnBNWT4aNoQBq0wIr+nN1nAdb7UpT21O4cLJnJ/aiwlrH6b+tbWWmLtpn1whXP0WM9ktlOVDezH2qoryboMZPncRRvdaM+mvOIU9VGDcUzhOfiKmvCzdEFOemPIKkCkv+Sa/dWhGj17z2bj1AIc3/cLUkQHct6iBS5XUD/8tNuWhssSyaDL3L/zDlYuXuXrxMlcvXiXsSeqEY1SRBs1LcX/NLBYFnOTy2RPs8JvOljvFcHk/dXNTJT1UYtxTNE7+Iqa8dMSUJ6a8gmbKA11iUqY91lSYOxTHIuk2t1JFCm+tKQ/AzAZri6fEaeyxtQwl8kli1r2cku9z+1Yi9h82490i/3AmWodxuVq8a/+YiyfupPdNXw+VGPeUjZO/iCkvLZeY8sSU97J6lIzxppryMmFc4VPGTGxE+MJe/HEjJctba8oD1MUKob3zjNoztvDnEg0xlw7yx6RJzA+4SQKALpytw8bh+rsfC4/XZM/22xT/pCH4+zDjzxffqL6oh4Aiz4micfIRMeWl5RJTnpjyCrApr1C1z/l+3XDKH/iW/n4nXmCJe7tMeQDa66sZUnM1oKZQKWc+GjqOkUuWYBbZjil7YwEV5iXLUqpIGAeXbOKssQvNkwtTuXMn6q0+zc5bWU9O/T1UhqHGMTRiyktPJKY8MeUVRFOeCovanviv98Jqw1A8vw7kfqbP8m015T03Kk9DzrB1xCQqN/+F1h1dmL73EIlmdfFa1AujBe0ZMeM6yazmt1nrGbpnBSNHB3Kgz25SHiKz76FyDDVO7iCmvCwxYsoTU17BMuWpS7RmzKr+2P4xiP5D/n1xemtNeS9shgpVps9MbVOBcsUTuHslw52je3Kef849w6JUSQqnDqmvh0ox1Di5hZjyxJQnprwCa8ozpvqoefi+e4S5o/cQbWWbWo8tVoUSiYqKR/e2mvIwwdnDh5ZVLTC3ssOhWl0+GTucbq6xbB83k79vJqJ7mohD2250+NCBqGuhPDWxo3KHgfh4/Y+IVTP55UAEOiU9BP3GPaXj5CNiyhNTnuH6oxAx5b0mpjx1KT7fsYuvG/z7eTJh5ze07Lgu5U79bTTlqayp980k+rvVpLyjFSYJjwk9c5htM/1Zvu0OabehJuWa0ft7b9o1ccLOQktMyCWOr57PjMl/EZqovId6jXtKP4t8RLYoNzRiyhME4S3kdflLckEQBOE1RiYLQRAEQS+yDCUIgiDoRZ4sBEEQBL3IZCEIgiDopeBOFm+YCU5MeYIg5Cf5P1mIKU8/Ysp7OWLKE4Q8QUx5rz1iyssOMeX9F4xwaOXNxB1/8lf4RY49OMrGnVPp0cA65xa8t9WUl5IQ84pN+HzaXJaeOsC+kKV0Lvl8Nj0xeo17Co4r1eHyz/M+lNgrnLgwihq5fMKJKe+1R0x5+c7baspDS1IhE2L2LGbi1Ls8K1qJj3wH4vurmrvVv2bPEyjYpjwAU8r1mMyMidUIWbeWDWN/5dbdMO5m2aRTX4wC456S40q6wC/u7mw3zZhhVDYfMGBxf0ruPsTNXN5L6jkNbIYpz7fVWA6lCZD+CmRLlv9XCd4fPIL+XzWmkr2OiLP7CPhuKst3h6VvwaEqXIX2E0fSo50LpW1NSIp5zMPLm5jSbgqHokmZJc+t4LPSKTvFfbkvmC8B0PJoeW9aDthPosJcijCvQOtxo+nTtTbvWDwl9NQdjI0gLHOM2hoXzyH0+7IR71a0QRt2gf0LpzF93sn0P7XXe1wqK+qPm453x6qUeccKU200oSd3s27idH7d/yBl6whNZTwPbKDLsd4pf+oPKQa30BnYjm1On3mpAhtD1JPH/VGCyq4VozePomkFOwobJ/D4+ml2+09m5i/BxKWPY0zxJt3xHNyR+u+Vo1ghLXEP7vDP7K8ZOjeIZCXnj8I+K6tH3zG5MffSJOqnrk/Fb/B9wV/wa6gydjMrR1TKanTTPuKPjhnbdiipR2VVg04jv6BZQ2fKlrbDuqgpuriHnPzuC3zm31C435KW8A0zmJL+34c5Ge9My1WVqVRaw54LyZnMdEMZNXE7UTo4fCIZxzPT6N7Tia2TgklWEpPeKBsazVjBBDc1u15lu4+c5NJHFlPei6d20zo+/DDemrWt27PqVWPSjXsjWBRwiiTgctB0qrZfSb33HdH8FaSsh7pYQs+cITS9fhs+/MmdGuEr8fpmb65vByKmvHTElCemvIJnystAg3kZVzp5vI8meD2Hr4kpD1VRmvh0xTHhDi1W7sLTwYyEkPPsmTOV2SsuEqtTGKPAuPcqx1WogReDOmkI/HIB/yi8FP4XxJSXlktMeWLKe1k9SsZ4g015KqsOzLg0hcYWanQRR5jz6Y+cS93xskCb8oyr8d4HFjw4tpPVCw5yI0JD6Xa+fDN7MRaP2jBm02N0SmIUGPdyfFzqkrQZ3gW7E7NZtOVxnuxIK6a8tFxiyhNTXgE15eme/MUPH3ZmZZn/Ub/PAPptWgIf92T5mcy/XAXPlKeyKI59US23d/zOzr0py2WXL06gTMst9HJrgPmmrcQpiInNkXFP2XGpq3bGrWEC+zzWk1eKbjHlpScSU56Y8gqiKQ/QRhN28TxhF89zau9tzE/9zGcervw66DBJBdmUl5hIkk6NjY0lKlLfrSSHERaqxaSYLUXUEKskxkS/ce9pjo5LQxW3TygfuYtZO6Py5KkCxJT3XIyY8sSUV7BMef9Cp0WnBbUmpWEF2ZTHs+tcvQHlGrhinfbvxuWpUElDzM3bPNIqi1Fi3MvRcRk50bhVaaIDAzmVh1+lF1OemPLElFdQTXlqO+p7f0m90hYULmZPqWp1aTN6ON1cY9g6dib7byUqM9O9paY8tJHcN6pLpz6tcEq4wZ1YG2oNHI1X0xgCvp7BoZAkRTGKjHs5OC51yVb0Ht2AsJ+msPlM3n1BW0x5YsozXH8UIqa818SUp3Gk5ZRv6dHKhfKlLdE8fUTImUNsm+nPih0h6ba4gmzKQ12M2r6jGOjZmMoljIm5dpSN48czf0tIxst5BTF6jXs5OC7jRuPZsqkxO1s3Z/rhvBN1yxblhkZMeYIgvIXIHhuCIAiCXmSyEARBEPQiy1CCIAiCXuTJQhAEQdCLTBaCIAiCXgruZPGGmeDElCcIQn6S/5OFmPL0I6a8lyOmPEHIE8SU99ojprzsEFOe4TCt+jmzrgZz/IAX5TJvs1KQTXn6YhTZ6xQaCRWb+8C0YlvGnzrDlh9q59lNiZjyXnvElJfvvLWmvAyMKnZhyh8+OGnjn/uL6gJuytMXo8hep8RIqKwejW1Vmnl50WdAM8qaq7i/K6f9e3Wy3o5lMuWNaDWUxav2cvSvQLbMmoSf/4mMv0Y2KsH7w/xZGXSKIxEn2bpnBr0+KpHF/qUqXIUOM39m/fXTHIu6yKGQQ2zaM5L6RVIDUmfkE/v64Ghaji/3pc3Ol9g9r2HGXZmCXIowr0DrH5YRcOscxx4e44/NfXj3+alSbY1Lv+9YcGQffz88x97za/jO2xWrTNO/3uNSWVF//BJWnT3Mgcggjj88xsY/p9CjoV1GszWV8Tx8kV2z6mccp2krpkZcZMmAUhlxqfXMD9zAxjuvWE8e90cJKrtWjDnyN3sfBHHi8RkCT/3MqB7/e25zPmOKN/FgzMbNbA89z/FHZ9l3eSszvaukfPZKzh+FfVZWj75jSl2qivmHzQc28ceiFy1Vaagydhsnnr8LjT7GuObGmcbSX4/Kqgadp8xg4cFd7Lh9mqNRQRy5t595/cvleG1ZZfke3isHY7nIi8lbntsyI93gNpFREzdxaOcmFnh8z25VQ7r3dEr5LJTEpCezoZH/FvaGbOPbj21z/jSQk1z6DzyTKe8yVy9e5urFq4Q90SqPSbXXnTt2OuXn+G1sO6fY68an2+tSjYSRRCOyAAAeBUlEQVQ/rGXP7sMc3rCCaVP3EGflRKXSmhzUo6GCpx8+TWLZ/NUQVl8z5CSsHzHlpSOmPDHlFUBTntqOZrOm0SxoAh4zzuE4Lev/XKBNeUpjMqHfXvdiI6GyXMlcnuJG28k6dEbO+ExSeJwGQkx5abnElCemvJfVo2SMN9KUp8a+y3iGue5nfOM/eaDV4Ph8REE25SmMyRgwe3tddkZCxbkU+FJyCzHlpeUSU56Y8gqYKU9l8xE+E1w4MbIdh1+6kpBGwTPlKY1JQ5+9Tp+RMCe58gMx5aUnElOemPIKlinPonknmpcqhmbJfpouSfk3lZExRqqB/BZSmyk1erOhIJvychSjwF6XjZEwZ7nyBzHlZYkRU56Y8gqOKS9umx/utdrQpV5b3Ou1xb3ep0xY95Ck4JUMaTyaXQ90BduUl5OYnNrrnjMSvnI9echzy1D32DxmAR9vH8T/7SjKL4v+4sKtWAqVccbV9gwL/A8SfW8Ly5Z6MHf4LMYnzGV7sJqKn3nTu9ptAtpvS32HYIar7yjef3qI42dDeJJgil1dZ+xN4rkdEZtl1k2+GczVaBuaDvXhlOYwkUb2lDMLZu2GSyQryqUfXdhWli3xYP7Q+UxTzyXgQCjxltUpoSZ9ttaFbWHxwh4sGPwj84v+xNqdl4hMLESxSiWJ2raKg7e1OTouo3pdGdBPxfFriZTq0B/P2hH82W0b4VqARxzdepKEaX34duQjVu+/T7J1dYqrSV/DNXQ9edMfBSRdI/h8Is3c++J+bg2nQ+JQW1aleKavHpJwkpUTd9N84Th+WleRX1cd4UZ4AhpLe0pxnoDNV9OXJbM9f3T6+6yonvRGPeFG0H00Hl3p/dkDDj4pSikuELAlox50MVw9ewu192f07RnO3oeWvKO5yLqNl0lGjcMXo/GsF82eAX+TVN6JlO07tcSF3iD0cXLO6vmPaKPDuBWd+V+MKPYoCV38I0Ku3iM6GSCYgDkH6DL7WyZdMWLVMXAeMIKm7Gfiisspx52kICYN4xr0XDiOHuWhjUUwn448mbP3FgbLZYKzR39qxJ/jyp1otEXeoWb3vnR+J5SNAWdSz3slMSmoi7tSo6KWi3PP/PvGSW1H/QFdKBV6kVvhcVDkHVy69aVjqRA2rDuds1xmtpQuZ4upURmsTVQY2ZamQtUo4h/d5da9p7n6PuNfz+fxp3/Eu/k9+ozuyaeTWtM33ZR3AXMVROtiOTH6S4Y8HoW3zxRmptrrlrlNYWnat5NUhdCYWvFeLz+6ZTa4TRuM/28Psx5QzG7mef+MjZ87Y9f2STedbf3jkrJciojl5Jie+IQPo5/HN0wdlmqCu3ScHVfSLqpxnB7/BZ53fOnbuxfffpnJBHdwdc6PK6Ew1bzG45Zqytvcdxiztz5O/+506NIRDLcfy8CvJjJrZKrB7dJxdl2Ny5168qI/Ski+yW+9B2E5aQDd5i9mULoJ7hwHb6TdZ2u5t2owPR+kmPK+mt0jiylv55arGaa8bM8fBX1WVE8aSZyb5ceKaqPpOGcBnVJNeTu2Xs1kyksmeM54FjlPoNv/zaNdqilv26bLRGNDvfZ1KGxkQpsfA2iTPm4mU16O6skLtIStHMZAi1EM8/0O/69TDG7+nSex6Y42BzGpJN3kROA12rupOLL/Zs5sl4bMpbLAoqQTzd3c6ZvJlLesmz/L094PKIlJRVOhIo7qB+y88uTfv3cqc4qUqUF7z55ZjIRLPvNnxb6c5dJU6cnMvV6UT7tyl5vKms+0PFzsQRvf3F2qki3KDY2Y8gRBeAuRPTYEQRAEvchkIQiCIOhFlqEEQRAEvciThSAIgqAXmSwEQRAEvRTcyeINM8GJKU8QhPwk/ycLMeXpR0x5L0dMeYKQJ4gp77VHTHnZIaa8/4gSO5uY8gxmr3t5jBKbnkLjXi4hprzXHjHl5TtvsylPr51NTHmGsNfpj1Fi01No3MslxJSXpRtiyhNTXgEz5emzs4kpzwD2OiUxSmx6Co17uYSY8tIRU56Y8gqgKU+PnU1MeYaw1+XUcJeNTS9HMYZFTHlpucSUJ6a8l9WjZIw30pSn384mpjwD2esUGu702fSUxuQGYspLyyWmPDHlFTBTHuTEziamvLyw1+mz6SmNyQ3ElJeeSEx5YsorWKa8rLzYzpYkprwcxBgAJTY9xcY9wyKmvCwxYsoTU17BMeW9kOfsbGLKe4UYQ6HEpqckxkCIKS89Rkx5YsorWKY8RXY2JWa6gm7KU2Kv0xejxKanyLiXe7xg11kVFtXa0Wd0T1o0dMI+3ZQ3h+mT93FfCxiVoP7Xo/D+qhEVU+11AX5TWBp4L+XDUllTZ5gfA7rXpVJmg9ua+fhP20tYlqPS4NBuOGP8OlCjnGW66WzQuAMp9jF9uZRiZE8dn2H082hCVcdUE9z1IHaM9WXOzlSDndoa516+9O3dDJdKmUxwfQey5lyysuNKlR8NLR3M2cTSVE015W3/YRKz11wh/T2UUQnqjxzLwC8bUME+1eB2M5hd4wYx+89HhqsnL/ujEGPHj+gzaQCtP6iAfboJ7hYHpwzi+7X3Upc/TXBonmLKa1DLMYspb9jYvzNMeUrOHz19VlZPCuoSjfH+aTQd67+DWaopb+CY/ZlMeSlbs/ReNIFuTRwxTzXl+YzeTzTF6LhxH2OaPv/uIZMpT2E9aqe+rDjaiytuDfB71RfcKmvqfTOJ/m41KZ/JzrZtpj/Lt93JeIGrKopzv1EM821BZfsUM93KEZNYfSwq44ZESUxKc2g0YyXfuanY6dmD77dG5FwFaohcSo5dYX80NYfwe2Z7HQBZ7XV6YzSOtJzyLT1auWSx6W2b6c+KHSEpuZTE5CKyRbmhEVOeIAhvIbLHhiAIgqAXmSwEQRAEvcgylCAIgqAXebIQBEEQ9CKThSAIgqCXgjtZvGEmODHlCYKQn+T/ZCGmPP2IKe/liClPEPIEMeW99ogpLzvElGcIVJhXbMLn0+ay9NQB9oUspXPJzPKMAmzKy4Rp1c+ZdTWY4we8KPevbWj09NDMkaZ+C1hz5TTHHp0h8OQyRnSvjEXmopXEpNWiwMpnaMSU99ojprx852025WFKuR6TmTGxGiHr1rJh7K/cuhvG3fRNKAu4KS8Vo4pdmPKHD07a+Bf8xbm+HhbC1W8xk91CWT60F2OvqijvNpjhcxdhdK81k/6KUxijzMqXW4gpL0s3xJQnpryCZcozrePDD+OtWdu6Pd5Df2LzlsOcPX2DyLRf9oJuygNUlu/hvXIwlou8mLwl6l+Thf4eVqRB81LcXzOLRQEnuXz2BDv8prPlTjFc3k/dJFVJjCLjXu4hprx0xJQnprwCZspTFaWJT1ccE+7QYuUuPB3MSAg5z545U5m94iKxOjHlobaj2axpNAuagMeMczhOy3kPSb7P7VuJ2H/YjHeL/MOZaB3G5Wrxrv1jLp64k7LHnZKYHBv3DIuY8tJyiSlPTHkvq0fJGG+iKc+4Gu99YMGDYztZveAgNyI0lG7nyzezF2PxqA1jNj0u4KY8NfZdxjPMdT/jG//JA60Gx1fooU4XztZh43D93Y+Fx2uyZ/ttin/SEPx9mPFn6g2vkhhQbNzLDcSUl5ZLTHliyitgpjyVRXHsi2q5veN3du5N2ZH18sUJlGm5hV5uDTDftDVjl+QCaMpT2XyEzwQXToxsx+GXrLQo6WEsKsxLlqVUkTAOLtnEWWMXmicXpnLnTtRbfZqdt5JBUUz+Iqa89ERiyhNTXsEy5ekSE0nSqbGxsURF6vbdyWGEhWoxKWZLETXEFWBTnmnzTjQvVQzNkv00XZISqTIyxkg1kN9CajOlRm8CYvT3MNakLl6LemG0oD0jZlwnmdX8Nms9Q/esYOToQA702U2cmYIYg3Xx1RBTXpYYMeWJKa8AmfKeXefqDSjXwBXrtFqNy1OhkoaYm7d5pC3Ypry4bX6412pDl3ptca/XFvd6nzJh3UOSglcypPFodj3QKeqh2qYC5YoncPdKhoNH9+Q8/5x7hkWpkhRWK4vJbzTAeIASxjagi+FaENTp54n7J44YJ2swsy6JU+NP6NLUhLNH7hAffZNw21b08G5JmfhI4os68eGocXg2ekLAwEkE3kogxeA2lk4upqiMC2FpX4bKjZrRrEVp7q9fwo6zGXOkLq4oNft0olEFI8IfgG1lVxo6Q1BwBNoYJbkUEHOT+zYt6e7Tniom0cSpi1Li3Tp81LEG2t0r2Xw8Gl3MDUKLNKXbIDfq2GtJUJlj4+iES8sG2Ief506UTtlxqYrg3P0LPqhuQ6GEBIysy1F/yFi8WkHgyAlsvfwMiOeJZR06ftWMSqqHRGGFQ7W6fJgb9eRpf5Sgw6GFOy3fsybmTiTJ5lYUr1CLxu71sTi2moCDkeiSw7j+qArtfXvS5r2i6LRGWNg54FjdlXqVk7h0OeNuPLvzR6ekz0rqSa89EVOXjnRoWxHT0HBwdKGeU3KWeiAJTZU2dOxYlcLh4WjfcaF+FS3BlyLQocbBYzpTelmw77sFnHpmhY2dLTZ21pglRhH9TKesP4DKtjaf9qlF5Nql7Lv+it+K0UZy36gunfq0winhBndibag1cDReTWMI+HoGh0KSQBvBnfjqdB7SEWf1Ax6bOtFm0jd0djjJPN8VBD3RKYtJw7gmXpvn8FXbxrhqDrE28J7yF/JgwFwmOHv40LKqBeZWdjhUq8snY4fTzTWW7eNm8vfNRHQJMURFPOJx+k8Ulo160KbEcZbN2MP9ZGU91D1NxKFtNzp86EDUtVCemthRucNAfLz+R8SqmfxyIAKtgph0416l0tgXL08d95aUjTzB0avJFDF6SlRMTt8A5Qwx5Ykpz3D9UYiY8l4TUx6Auhi1fUcx0LMxlUsYE3PtKBvHj2f+lpCMl88F1ZT3L4yoPX038+qupmvjBdxIO+UV9NCkXDN6f+9NuyZO2FloiQm5xPHV85kx+S9CE5XHKLHy5RayRbmhEVOeIAhvIa/BSpggCILwuiOThSAIgqAXWYYSBEEQ9CJPFoIgCIJeZLIQBEEQ9FJwJ4s3zAQnpjxBEPKT/J8sxJSnHzHlvRwx5QlCniCmvNceMeVlh5jy/gOpTpB/nvdrxF7hxIVR1Eg7ADHlAS8z5Rnh0MqbiTv+5K/wixx7cJSNO6fSo8FzT+QGNuW9vJ7cQ0x5rz1iyst33lZTXtIFfnF3Z7tpxtVIZfMBAxb3p+TuQ9xMAjHlpfByU56WpEImxOxZzMSpd3lWtBIf+Q7E91c1d6t/zZ4nYEhTnv56cg8x5WXphpjyxJRXgEx5ulhCz5zh3LHTKT/Hb2Pb2Z0a4SsZ/83elE35xJSnx5SnJXzDDKb8sJY9uw9zeMMKpk3dQ5yVE5VKp1ZjMFOeknpyDzHlpSOmPDHlFTBT3nMUauDFoE4aAr9cwD+pv1piytNjysuCBvMyrnTyeB9N8HoOX0vdPMpgpryc1mNYxJSXlktMeWLKe1k9SsZ4E015mVGXpM3wLtidmM2iLY/TL5piytNjyktFZdWBGZem0NhCjS7iCHM+/ZFzabuGGsyUp7ye3EBMeWm5xJQnprwCZsrLkrNqZ9waJrDPYz23X9hzMeVlh+7JX/zwYWdWlvkf9fsMoN+mJfBxT5afSUCZBU9/TE7qyQ3ElJeeSEx5YsorWKa8TBVRxe0TykfuYtbOrGvgSsx0BdqUF5baLW00YRfPE3bxPKf23sb81M985uHKr4MOk6jEgqcgRp2TenIBMeVliRFTnpjyCpApLw0jJxq3Kk10YCCnnltCE1OeHlPeC4vUotOCWpOS01CmvFeux0A8twx1j81jFvDx9kH8346i/LLoLy7ciqVQGWdcbc+wwP8g0fe2sGypB3OHz2J8wly2B6up+Jk3vavdJqD9ttR3CGa4+o7i/aeHOH42hCcJptjVdcbeJJ7bEbFZ7lySbwZzNdqGpkN9OKU5TKSRPeXMglm74RLJinLpRxe2lWVLPJg/dD7T1HMJOBBKvGV1SqhJl4XowraweGEPFgz+kflFf2LtzktEJhaiWKWSRG1bxcHb2hwdl1G9rgzop+L4tURKdeiPZ+0I/uy2jXAtwCOObj1JwrQ+fDvyEav33yfZujrF1aSv4Rq6nrzpjwKSrhF8PpFm7n1xP7eG0yFxqC2rUjzT1zdJOMnKibtpvnAcP62ryK+rjnAjPAGNpT2lOE/A5qvpv1DZnj86/X1WVE96o55wI+g+Go+u9P7sAQefFKUUFwjYklEPuhiunr2F2vsz+vYMZ+9DS97RXGTdxssko8bhi9F41otmz4C/SSrvRMr2nVriQm8Q+jg5Z/UYCHVxV2pU1HJx7pl/T/pJwQTMOUCX2d8y6YoRq46B84ARNGU/E1dcTjluJTFpGNeg58Jx9CgPbSyC+XTkyZy9tzBYLhOcPfpTI/4cV+5Eoy3yDjW796XzO6FsDDiTct5Hh3ErOvOARhR7lIQu/hEhV+8RnQyo7ag/oAulQi9yKzwOiryDS7e+dCwVwoZ1p1PGCT/JyWBTvhwzjs6xKzgZAvYf9KBvGyOu/d8JHmpBqyRGST25yL+ez+NP/4h383v0Gd2TTye1pm+6Ke8C5iqI1sVyYvSXDHk8Cm+fKcxMtdctc5vC0rRvJ6kKoTG14r1efnTLbHCbNhj/3x5mvYjF7Gae98/Y+Lkzdm2fdNPZ1j8uKculiFhOjumJT/gw+nl8w9RhqSa4S8fZcSXtohrH6fFf4HnHl769e/Htl5lMcAdX5/y4EgpTzWs8bqmmvM19hzF76+P073KHLh3BcPuxDPxqIrNGphrcLh1n19W43KknL/qjhOSb/NZ7EJaTBtBt/mIGpZvgznHwRtp9tpZ7qwbT80GKKe+r2T2ymPJ2brmaYcrL9vxR0GdF9aSRxLlZfqyoNpqOcxbQKdWUt2Pr1UymvGSC54xnkfMEuv3fPNqlmvK2bbpMNDbUa1+HwkYmtPkxgDbp42Yy5eWoHsOgqVARR/UDdl558oJzRkvYymEMtBjFMN/v8P86xUzn33kSm+5ocxCT1sKbnAi8Rns3FUf238yZ7dKQuVQWWJR0ormbO30zmfKWdfNn+d4c9FllTpEyNWjv2ZPypS3RPH1EyJlDLPnMnxX7UsdJCmb554Mw+t6b3r+u45s0C97cQczwv5Sy3K8kJp+RLcoNjZjyBEF4C5E9NgRBEAS9yGQhCIIg6EWWoQRBEAS9yJOFIAiCoBeZLARBEAS9FNzJ4g0zwYkpTxCE/CT/Jwsx5elHTHkvR0x5gpAniCnvtUdMedkhprz/iBI7m5jyAP1mOtOKbRl/6gxbfqid9UZBqZHQwOMYGjHlvfaIKS/feVtNeYrsbGLKg+zNdBrbqjTz8qLPgGaUNVdxf9dzAYqMhIYbJ7cQU16WbogpT0x5BciUp8jgJqa87M10Gip4+uHTJJbNXw1h9bUXTFZKjIQGGyf3EFNeOmLKE1NeATPlKbCziSlPn5kumctT3Gg7WYfOyBmfSfrTvshIaLhxcg8x5aXlElOemPJeVo+SMd5EU54CO5uY8hSY6RQ4TDKSvthIaNBxcgkx5aXlElOemPIKnClPicEtDTHlGQL9RsK8HScniCkvPZGY8sSUV8BMeQrsbE/FlGdAM93LjYQ5w1Dj5Awx5WWJEVOemPIKjilPiZ1NTHkGNNNlYyTMl3FymjbLf4kpT0x5YsorMKY8JXY2tGLKy+AlZjozW0qXs8XUqAzWJiqMbEtToWoU8Y/ucuve0/Tfw2yNhIYcJ5cQU56Y8gzXHyWIKe/1MeUpsrOJKU8fmio9mbnXi/JpV9NyU1nzmZaHiz1o43so/YYreyOh4cbJLWSLckMjpjxBEN5CZI8NQRAEQS8yWQiCIAh6kWUoQRAEQS/yZCEIgiDoRSYLQRAEQS8Fd7J4w0xwYsoTBCE/yf/JQkx5+hFT3ssRU54g5AliynvtEVNedogp7z9iUYmPpy0n4NZZjj48zua/ptK9vnXWC4OY8oBsTHk5qOelFjxFMSosa3Zm6No/2BZyjmMPjrN5jz8eje3y5K5fTHmvPWLKy3feVlOeyorG/ksZ3+I6ywZ7sCfEktoDvsV7/SwSP/Dgt2vJiCkvhZeb8pTVo9eCpyRG40ibid64hv3Oj55nCdeU5aNhQxiwyoTwmt5sDc/dC7SY8rJ0Q0x5YsorQKa8Ig1p196Wi/5jWRhwkqCje1jZfyI7ntbG/YuqYspLD8vGlKeoHgUWPCUxyTf5rUMzevSaz8atBzi86RemjgzgvkUNXKrk/qKnmPLSEVOemPIKlilPZVGYwsY6oiMzXQBjL3D+oo7W71bCgnNEiykvW1OesnqUWPCUmfJ0iUmZ9rhSYe5QHIuk29zKA6mFmPLScokpT0x5L6tHyRhvoClP9+A0p6+q+NzDg9qB8zlxL4lCpcpSoogatCYYq8SUp8+Up7geJRa8nJjyAOMKnzJmYiPCF/bijxuGXOp7MWLKS8slpjwx5RU0U15SED97fo/jksEsuNIXXRKonkUTZ6omPuBBpp10QUx5+i7j/72enFCo2ud8v2445Q98S3+/E//2ouQCYspLTySmPDHlFTBTHhB3+hdGuq7BokQJrE3iiTJry+wjg0k4coEkQCemvGxNeRvy8NhTK8Citif+672w2jAUz68DuZ/Tx7NXREx5WWLElCemvIJjyssgidiwu9y9X5hmE3rjHLmDNevvo0VMefpMeTmr57+jLtGaMav6Y/vHIPoPybuJAkADjAcoYWwDuhiuBUGdfp64f+KIcbIGM+uSODX+hC5NTTh75A7x0TcJt21FD++WlImPJL6oEx+OGodnoycEDJxE4K0EUgxuY+nkYorKuBCW9mWo3KgZzVqU5v76Jew4m7Goq4srSs0+nWhUwYjwB2Bb2ZWGzhAUHIE2RkkuBcTc5L5NS7r7tKeKSTRx6qKUeLcOH3WsgXb3SjYfj0YXc4PQIk3pNsiNOvZaElTm2Dg64dKyAfbh57kTpVN2XKoiOHf/gg+q21AoIQEj63LUHzIWr1YQOHICWy8/A+J5YlmHjl81o5LqIVFY4VCtLh/mRj152h8l6HBo4U7L96yJuRNJsrkVxSvUorF7fSyOrSbgYCS65DCuP6pCe9+etHmvKDqtERZ2DjhWd6Ve5SQuXc64G8/u/NEp6bOSetJrT8TUpSMd2lbENDQcHF2o55ScpR5IQlOlDR07VqVweDjad1yoX0VL8KUIdKhx8JjOlF4W7PtuAaeeWWFjZ4uNnTVmiVFEP9Mp6w+gsq3Np31qEbl2Kfuuv/p6tVnJilR2caZ2u654zfajx7u3WP7FcNYGP0sJ0EZwJ746nYd0xFn9gMemTrSZ9A2dHU4yz3cFQU90ymLSMK6J1+Y5fNW2Ma6aQ6wNvKf4hbziehTlMsHZw4eWVS0wt7LDoVpdPhk7nG6usWwfN5O/byaiS4ghKuIRj9N/orBs1IM2JY6zbMYe7ifnoB4zW0pXKo198fLUcW9J2cgTHL2aTBGjp0TFJCmMMab6qHn4vnuEuaP3EG1lm3r+2GJVKJGoqOe/1mtYXrDrrAqLau3oM7onLRo6YZ9uypvD9Mn7uK8FjEpQ/+tReH/ViIqp9roAvyksDUx1+aqsqTPMjwHd61Ips8FtzXz8p+0lLMsTgQaHdsMZ49eBGuUs001ng8YdSFkz1ZdLKUb21PEZRj+PJlR1TDXBXQ9ix1hf5uxMNdiprXHu5Uvf3s1wqZTJBNd3IGvOJSs7rlT50dDSwZxNLE3VVFPe9h8mMXvNFZ6l11OC+iPHMvDLBlSwTzW43Qxm17hBzP7zkeHqycv+KMTY8SP6TBpA6w8qYJ9ugrvFwSmD+H5t2i+0CQ7NU0x5DWo5ZjHlDRv7d4YpT8n5o6fPyupJQV2iMd4/jaZj/XcwSzXlDRyzP8v6vsqmDr0XTaBbE0fMU015PqP3E00xOm7cx5imz797yGTKU1iP2qkvK4724opbA/xe8QU3aKj23TYWe1rx8FowpwO3sn7BBv6599x4qqI49xvFMN8WVLZPMdOtHDGJ1ccyfYtKSUxKc2g0YyXfuanY6dmD77dG5PwCZ4hcKmvqfTOJ/m41KZ/JlLdtpj/Lt93hxbehRtSevpt5dVfTtfECbqSd8grq0dQcwu+ZLXgAZLXg6Y1Rl+LzHbv4usG/n/8Tdn5Dy47rDP4kkxnZotzQiClPEIS3ENljQxAEQdCLTBaCIAiCXmQZShAEQdCLPFkIgiAIevl/FjbOIxPxuHMAAAAASUVORK5CYII=)"
      ],
      "metadata": {
        "id": "o4zeIMmaipcX"
      }
    },
    {
      "cell_type": "markdown",
      "source": [
        "Se presenta la precisión la precisión del testeo y del entrenamiento."
      ],
      "metadata": {
        "id": "Do1N9XJwitXg"
      }
    },
    {
      "cell_type": "code",
      "source": [
        "train_accuracy = 100 - (((ytrain_predict_py)-ytrain.mean())*100)-20\n",
        "test_accuracy = 100 - ((ytest_predict_py)-ytest.mean()*100)-20\n"
      ],
      "metadata": {
        "id": "y_XgRpXVjzUT"
      },
      "execution_count": 725,
      "outputs": []
    },
    {
      "cell_type": "code",
      "source": [
        "test_accuracy[1]"
      ],
      "metadata": {
        "colab": {
          "base_uri": "https://localhost:8080/"
        },
        "id": "bjwCEXmtkLSz",
        "outputId": "878bf1a6-49b0-48c0-df40-76a53140eca4"
      },
      "execution_count": 728,
      "outputs": [
        {
          "output_type": "execute_result",
          "data": {
            "text/plain": [
              "80.26643492289774"
            ]
          },
          "metadata": {},
          "execution_count": 728
        }
      ]
    },
    {
      "cell_type": "markdown",
      "source": [
        "Presentación con el modelo c++"
      ],
      "metadata": {
        "id": "F2xYx-stkeow"
      }
    },
    {
      "cell_type": "markdown",
      "source": [
        "![Captura desde 2022-11-23 03-41-49.png](data:image/png;base64,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)"
      ],
      "metadata": {
        "id": "8hf84qefkgyt"
      }
    },
    {
      "cell_type": "markdown",
      "source": [
        "Finalmente se tiene a continuación la cantidad de datos usados para el entrenamiento, el testeo y la totalidad de ellos."
      ],
      "metadata": {
        "id": "AM7zixEglDw3"
      }
    },
    {
      "cell_type": "code",
      "source": [
        "ytrain.size"
      ],
      "metadata": {
        "colab": {
          "base_uri": "https://localhost:8080/"
        },
        "id": "QJeF6dlilcUB",
        "outputId": "165f794f-639f-4664-d001-c9223fae43ba"
      },
      "execution_count": 730,
      "outputs": [
        {
          "output_type": "execute_result",
          "data": {
            "text/plain": [
              "480"
            ]
          },
          "metadata": {},
          "execution_count": 730
        }
      ]
    },
    {
      "cell_type": "code",
      "source": [
        "ytest.size"
      ],
      "metadata": {
        "colab": {
          "base_uri": "https://localhost:8080/"
        },
        "id": "aqssGQ8xldFa",
        "outputId": "963ff837-64ab-467b-b7ff-f3c00129de8c"
      },
      "execution_count": 731,
      "outputs": [
        {
          "output_type": "execute_result",
          "data": {
            "text/plain": [
              "1920"
            ]
          },
          "metadata": {},
          "execution_count": 731
        }
      ]
    },
    {
      "cell_type": "code",
      "source": [
        "y.size"
      ],
      "metadata": {
        "colab": {
          "base_uri": "https://localhost:8080/"
        },
        "id": "wtGt4euZlh3m",
        "outputId": "79a5677b-a9e5-442e-c99a-fe68caf9c0fd"
      },
      "execution_count": 732,
      "outputs": [
        {
          "output_type": "execute_result",
          "data": {
            "text/plain": [
              "2400"
            ]
          },
          "metadata": {},
          "execution_count": 732
        }
      ]
    },
    {
      "cell_type": "markdown",
      "source": [
        "# CONCLUSIONES\n",
        "* Debido a que se tomó un dataset con solo datos numéricos el modelo no necesitó una transformación de variables categóricas o representativas que fueran mostradas a través de caracteres.\n",
        "* Se puede ver que solo evaluando los costos medios dados en el modelo desarrollado en python y mostrados gráficamente, igualan o parecen datos cercanos a los valores de los costos mostrados en el modelo hecho en C++.\n",
        "* Se puede notar que solo la variable Research es un dato categórico, ya que solo evalua los datos por 1 o 0.\n",
        "* A partir de las validaciones realizadas en python y siendo comparadas con los resultados dados en c++, se puede ver una gran cercana entre los datos dados en la desviación estándar, los cuales pueden dar una mejor precisión al emplear el modelo. Pero presentando que la gráfica no se muestra correctamente como se espera.\n",
        "* Con el uso de esta herramienta de regresión logística se puede como se pueden relacionar las variables dependientes e independientes, al igual de las diferentes conclusiones que se pueden sacar por los datos según testeo y entrenamiento, en este caso teniendo un accuracy de 10% de diferencia, evaluando mejor con los testeos en el modelo realizado en python.\n",
        "* Finalmente destacando en la ejecución por c++ como los costo por cada 100 datos(1 paso) probados van en búsqueda de los puntos más bajos del problema, mostrando que en cada paso puede ir encontrando varios puntos mínimos locales, pero al final encontrando el mínimo global, esto solo si el modelo utiliza una gran cantidad de datos del mismo."
      ],
      "metadata": {
        "id": "RBt_SwC5pQiM"
      }
    },
    {
      "cell_type": "markdown",
      "source": [
        "# Referencias\n",
        "* https://datascience.stackexchange.com/questions/82743/valueerror-y-should-be-a-1d-array-got-an-array-of-shape-285-30-instead\n",
        "* https://machinelearningmastery.com/train-test-split-for-evaluating-machine-learning-algorithms/\n",
        "* https://www.statology.org/valueerror-unknown-label-type-continuous/"
      ],
      "metadata": {
        "id": "hqDvooU_shLR"
      }
    }
  ]
}